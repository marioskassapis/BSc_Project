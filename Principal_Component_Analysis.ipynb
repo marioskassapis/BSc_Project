{
 "cells": [
  {
   "cell_type": "code",
   "execution_count": 2,
   "metadata": {},
   "outputs": [],
   "source": [
    "import pandas as pd\n",
    "import numpy as np\n",
    "import nltk\n",
    "import re\n",
    "import os\n",
    "import codecs\n",
    "from sklearn import feature_extraction\n",
    "#import mpld3\n",
    "from matplotlib import pyplot as plt"
   ]
  },
  {
   "cell_type": "code",
   "execution_count": 4,
   "metadata": {},
   "outputs": [
    {
     "name": "stdout",
     "output_type": "stream",
     "text": [
      "Theresa_May.txt\n",
      "Tony_Blair.txt\n",
      "Gordon_Brown.txt\n",
      "Alec_Douglas.txt\n",
      "David_Cameron.txt\n",
      "Edward_Heath.txt\n",
      "Harold_Wilson.txt\n",
      "James_Callaghan.txt\n",
      "John_Major.txt\n",
      "Margaret_Thatcher.txt\n",
      "Harold_Macmillan.txt\n",
      "Anthony_Eden.txt\n",
      "Winston_Churchill.txt\n"
     ]
    }
   ],
   "source": [
    "#names = np.array([\"Theresa_May.txt\",\"Tony_Blair.txt\",\"Gordon_Brown.txt\",\"Alec_Douglas.txt\",\"David_Cameron.txt\"\n",
    " #                 ,\"Edward_Heath.txt\",\"Harold_Wilson.txt\",\"James_Callaghan.txt\",\"John_Major.txt\",\n",
    "  #                \"Margaret_Thatcher.txt\",\"David_Gilmour_Pink_Floyd1.txt\",\"Roger_Waters_Pink_Floyd.txt\"\n",
    "   #               ,\"Gordon_Brown_Britannica.txt\"])\n",
    "    \n",
    "names = np.array([\"Theresa_May.txt\",\"Tony_Blair.txt\",\"Gordon_Brown.txt\",\"Alec_Douglas.txt\",\"David_Cameron.txt\"\n",
    "                  ,\"Edward_Heath.txt\",\"Harold_Wilson.txt\",\"James_Callaghan.txt\",\"John_Major.txt\",\n",
    "                  \"Margaret_Thatcher.txt\",\"Harold_Macmillan.txt\",\"Anthony_Eden.txt\",\"Winston_Churchill.txt\"]) \n",
    "\n",
    "party = np.array([\"tory\",\"labour\",\"labour\",\"tory\",\"tory,\"])\n",
    "summary = []\n",
    "\n",
    "for name in names:\n",
    "    print(name)\n",
    "    f = open(\"Text_Files//\"+name,encoding=\"utf8\")\n",
    "    summary.append(f.read())\n",
    "\n"
   ]
  },
  {
   "cell_type": "code",
   "execution_count": 5,
   "metadata": {},
   "outputs": [],
   "source": [
    "from nltk.stem.snowball import SnowballStemmer\n",
    "stemmer = SnowballStemmer(\"english\")"
   ]
  },
  {
   "cell_type": "code",
   "execution_count": 6,
   "metadata": {},
   "outputs": [],
   "source": [
    "\n",
    "def tokenize_and_stem(text):\n",
    "    # first tokenize by sentence, then by word to ensure that punctuation is caught as it's own token\n",
    "    tokens = [word for sent in nltk.sent_tokenize(text) for word in nltk.word_tokenize(sent)]\n",
    "    filtered_tokens = []\n",
    "    # filter out any tokens not containing letters (e.g., numeric tokens, raw punctuation)\n",
    "    for token in tokens:\n",
    "        if re.search('[a-zA-Z]', token):\n",
    "            filtered_tokens.append(token)\n",
    "    stems = [stemmer.stem(t) for t in filtered_tokens]\n",
    "    return stems\n",
    "def tokenize_only(text):\n",
    "    # first tokenize by sentence, then by word to ensure that punctuation is caught as it's own token\n",
    "    tokens = [word.lower() for sent in nltk.sent_tokenize(text) for word in nltk.word_tokenize(sent)]\n",
    "    filtered_tokens = []\n",
    "    # filter out any tokens not containing letters (e.g., numeric tokens, raw punctuation)\n",
    "    for token in tokens:\n",
    "        if re.search('[a-zA-Z]', token):\n",
    "            filtered_tokens.append(token)\n",
    "    return filtered_tokens"
   ]
  },
  {
   "cell_type": "code",
   "execution_count": 7,
   "metadata": {},
   "outputs": [],
   "source": [
    "stemmed_list = []\n",
    "tokenized_list = []\n",
    "for i in summary:\n",
    "    \n",
    "    allwords_stemmed = tokenize_and_stem(i)\n",
    "    stemmed_list.append(allwords_stemmed)\n",
    "    \n",
    "    allwords_tokenized = tokenize_only(i)\n",
    "    tokenized_list.append(allwords_tokenized)\n",
    "    \n",
    "    "
   ]
  },
  {
   "cell_type": "code",
   "execution_count": 8,
   "metadata": {},
   "outputs": [
    {
     "name": "stdout",
     "output_type": "stream",
     "text": [
      "there are 25670 items in vocab_frame\n"
     ]
    }
   ],
   "source": [
    "vocab_frame = pd.DataFrame({'words': allwords_tokenized}, index = allwords_stemmed)\n",
    "print ('there are ' + str(vocab_frame.shape[0]) + ' items in vocab_frame')\n"
   ]
  },
  {
   "cell_type": "code",
   "execution_count": 9,
   "metadata": {},
   "outputs": [
    {
     "name": "stderr",
     "output_type": "stream",
     "text": [
      "/Users/marioskassapis/anaconda3/lib/python3.7/site-packages/sklearn/feature_extraction/text.py:300: UserWarning: Your stop_words may be inconsistent with your preprocessing. Tokenizing the stop words generated tokens ['abov', 'afterward', 'alon', 'alreadi', 'alway', 'ani', 'anoth', 'anyon', 'anyth', 'anywher', 'becam', 'becaus', 'becom', 'befor', 'besid', 'cri', 'describ', 'dure', 'els', 'elsewher', 'empti', 'everi', 'everyon', 'everyth', 'everywher', 'fifti', 'forti', 'henc', 'hereaft', 'herebi', 'howev', 'hundr', 'inde', 'mani', 'meanwhil', 'moreov', 'nobodi', 'noon', 'noth', 'nowher', 'onc', 'onli', 'otherwis', 'ourselv', 'perhap', 'pleas', 'sever', 'sinc', 'sincer', 'sixti', 'someon', 'someth', 'sometim', 'somewher', 'themselv', 'thenc', 'thereaft', 'therebi', 'therefor', 'togeth', 'twelv', 'twenti', 'veri', 'whatev', 'whenc', 'whenev', 'wherea', 'whereaft', 'wherebi', 'wherev', 'whi', 'yourselv'] not in stop_words.\n",
      "  'stop_words.' % sorted(inconsistent))\n"
     ]
    },
    {
     "name": "stdout",
     "output_type": "stream",
     "text": [
      "CPU times: user 4.34 s, sys: 75.3 ms, total: 4.41 s\n",
      "Wall time: 4.49 s\n",
      "(13, 688)\n"
     ]
    }
   ],
   "source": [
    "from sklearn.feature_extraction.text import TfidfVectorizer\n",
    "\n",
    "#define vectorizer parameters\n",
    "tfidf_vectorizer = TfidfVectorizer(max_df=0.9, max_features=200000,\n",
    "                                 min_df=0.6, stop_words='english',\n",
    "                                 use_idf=True, tokenizer=tokenize_and_stem, ngram_range=(1,3))\n",
    "\n",
    "%time tfidf_matrix = tfidf_vectorizer.fit_transform(summary) #fit the vectorizer to synopses\n",
    "terms = tfidf_vectorizer.get_feature_names() #apparently this reduces the features??\n",
    "\n",
    "print(tfidf_matrix.shape)"
   ]
  },
  {
   "cell_type": "code",
   "execution_count": 10,
   "metadata": {},
   "outputs": [],
   "source": [
    "from sklearn.metrics.pairwise import cosine_similarity\n",
    "from sklearn.metrics import pairwise_distances as distance\n",
    "dist = 1 - cosine_similarity(tfidf_matrix)\n",
    "#dist2 = distance(tfidf_matrix)\n",
    "#dist2.shape\n",
    "#print(dist2)"
   ]
  },
  {
   "cell_type": "code",
   "execution_count": 11,
   "metadata": {},
   "outputs": [
    {
     "name": "stdout",
     "output_type": "stream",
     "text": [
      "[[-0.29127026 -0.23085111 -0.38350476 -0.26799523 -0.02694406 -0.15321915\n",
      "   0.44497897  0.00576663  0.04866658 -0.03283352]\n",
      " [-0.49609019  0.77773728 -0.01729482  0.08383401  0.16086624  0.52276838\n",
      "   0.02759443  0.07410213  0.08928417  0.0104914 ]\n",
      " [-0.44213999  0.77960688  0.14299277 -0.14677157  0.01205157 -0.51105844\n",
      "  -0.20881119  0.03136909  0.00442169 -0.01603055]\n",
      " [ 0.59157058 -0.20936201  0.06270866 -0.20028545  0.28457263  0.02416237\n",
      "  -0.11760222  0.04305325 -0.01262618  0.15434338]\n",
      " [-0.38957393 -0.17167112 -0.48121415 -0.26631544  0.11551664 -0.00641204\n",
      "  -0.0326327   0.0241056  -0.08578845  0.10305478]\n",
      " [-0.04959657 -0.54637211  0.10165436  0.23029214 -0.0176886  -0.03688349\n",
      "  -0.07221664  0.31601374  0.05334156 -0.14698275]\n",
      " [-0.0819728  -0.11646885  0.64895449 -0.34880268 -0.29735327  0.15531342\n",
      "   0.08576544  0.03399299 -0.21260598  0.01648237]\n",
      " [-0.18356175 -0.4171012   0.30990141 -0.21963478 -0.19817738  0.0452445\n",
      "  -0.10037208 -0.19476991  0.26639237 -0.01068512]\n",
      " [-0.32626857 -0.34245701 -0.25422171  0.18958068  0.1366621   0.10899539\n",
      "  -0.2202362  -0.20018886 -0.1623113  -0.14112925]\n",
      " [-0.27477518 -0.17935536  0.1948857   0.75982267 -0.04652457 -0.13682717\n",
      "   0.12864975 -0.04949559 -0.01276554  0.16419307]\n",
      " [ 0.66749538  0.20730484  0.26330089  0.03725874  0.55928396 -0.0717967\n",
      "   0.17920377 -0.08303982  0.00354084 -0.09747663]\n",
      " [ 0.60200971 -0.06873617 -0.34471137 -0.01640985 -0.14914177  0.04433644\n",
      "  -0.1912932   0.05451499  0.05579871  0.05623713]\n",
      " [ 0.67417356  0.51772594 -0.24345147  0.16542675 -0.53312349  0.01537647\n",
      "   0.07697187 -0.05542425 -0.03534849 -0.05966431]]\n",
      "[5.07049847 4.56474986 3.44879658 2.93242998 2.53790628 1.83239396\n",
      " 1.88632846 1.16583684 1.04289187 1.00960426]\n"
     ]
    },
    {
     "data": {
      "image/png": "[encoded data removed]",
      "text/plain": [
       "<Figure size 720x504 with 1 Axes>"
      ]
     },
     "metadata": {
      "needs_background": "light"
     },
     "output_type": "display_data"
    }
   ],
   "source": [
    "#try to perform a PCA\n",
    "from sklearn.decomposition import PCA\n",
    "pca = PCA(n_components=10)\n",
    "\n",
    "coordinates = pca.fit_transform(dist)\n",
    "print(coordinates)\n",
    "print(np.sum(np.abs(coordinates),axis = 0))\n",
    "\n",
    "fig, ax = plt.subplots(figsize = (10,7))\n",
    "\n",
    "ax.scatter(coordinates[:,0], coordinates[:,1], color = \"red\", marker = \"o\", s = 100,alpha = 0.8, edgecolors = \"black\")\n",
    "for i, txt in enumerate(names):\n",
    "    ax.annotate(\"  \"+txt[:-4], (coordinates[i,0], coordinates[i,1]))\n",
    "    \n",
    "#plt.legend()\n",
    "plt.grid()\n",
    "plt.axvline(linestyle = \"--\", color = \"black\")\n",
    "plt.axhline(linestyle = \"--\", color = \"black\")\n",
    "#plt.axis([-1,1,-0.75,0.75])\n",
    "plt.xlabel(\"Principal Component 1\")\n",
    "plt.ylabel(\"Principal Component 2\")\n",
    "\n",
    "plt.savefig(\"PCA_Clusters.pdf\")\n",
    "\n",
    "#we see that the singers and 2 gordon browns bias our PCA towards a certain direction and should better be excluded\n",
    "\n",
    "\n"
   ]
  },
  {
   "cell_type": "code",
   "execution_count": null,
   "metadata": {},
   "outputs": [],
   "source": []
  }
 ],
 "metadata": {
  "anaconda-cloud": {},
  "kernelspec": {
   "display_name": "Python 3",
   "language": "python",
   "name": "python3"
  },
  "language_info": {
   "codemirror_mode": {
    "name": "ipython",
    "version": 3
   },
   "file_extension": ".py",
   "mimetype": "text/x-python",
   "name": "python",
   "nbconvert_exporter": "python",
   "pygments_lexer": "ipython3",
   "version": "3.7.1"
  }
 },
 "nbformat": 4,
 "nbformat_minor": 1
}
