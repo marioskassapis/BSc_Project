{
 "cells": [
  {
   "cell_type": "code",
   "execution_count": 15,
   "metadata": {},
   "outputs": [],
   "source": [
    "import pandas as pd\n",
    "import numpy as np\n",
    "import nltk\n",
    "import re\n",
    "import os\n",
    "import codecs\n",
    "from sklearn import feature_extraction\n",
    "#import mpld3\n",
    "from matplotlib import pyplot as plt\n",
    "from nltk.stem.snowball import SnowballStemmer\n",
    "stemmer = SnowballStemmer(\"english\")\n"
   ]
  },
  {
   "cell_type": "code",
   "execution_count": 7,
   "metadata": {},
   "outputs": [],
   "source": [
    "#Create an array of all the names of the text files\n",
    "\n",
    "names = np.array([\"Theresa_May.txt\",\"Tony_Blair.txt\",\"Gordon_Brown.txt\",\"Alec_Douglas.txt\",\"David_Cameron.txt\"\n",
    "                  ,\"Edward_Heath.txt\",\"Harold_Wilson.txt\",\"James_Callaghan.txt\",\"John_Major.txt\",\n",
    "                  \"Margaret_Thatcher.txt\",\"Harold_Macmillan.txt\",\"Anthony_Eden.txt\",\"Winston_Churchill.txt\"])\n",
    "\n",
    "#Now for every text with this name, append it to a new empty list (summary)\n",
    "summary = []\n",
    "\n",
    "for name in names:\n",
    "    #print(name)\n",
    "    f = open(\"Text_Files//\"+name,encoding=\"utf8\")\n",
    "    summary.append(f.read())"
   ]
  },
  {
   "cell_type": "code",
   "execution_count": 8,
   "metadata": {},
   "outputs": [],
   "source": [
    "#Define function that will tokenize and stem the text that it receives as an argument:\n",
    "\n",
    "def tokenize_and_stem(text):\n",
    "    # first tokenize by sentence, then by word to ensure that punctuation is caught as its own token\n",
    "    tokens = [word for sent in nltk.sent_tokenize(text) for word in nltk.word_tokenize(sent)]\n",
    "    filtered_tokens = []\n",
    "    # filter out any tokens not containing letters (e.g., numeric tokens, raw punctuation)\n",
    "    for token in tokens:\n",
    "        if re.search('[a-zA-Z]', token):\n",
    "            filtered_tokens.append(token)\n",
    "    stems = [stemmer.stem(t) for t in filtered_tokens]\n",
    "    return stems"
   ]
  },
  {
   "cell_type": "code",
   "execution_count": 6,
   "metadata": {},
   "outputs": [],
   "source": [
    "#Define a function that will only tokenize the text that it receives as an argument:\n",
    "\n",
    "def tokenize_only(text):\n",
    "    # first tokenize by sentence, then by word to ensure that punctuation is caught as its own token\n",
    "    tokens = [word.lower() for sent in nltk.sent_tokenize(text) for word in nltk.word_tokenize(sent)]\n",
    "    filtered_tokens = []\n",
    "    # filter out any tokens not containing letters (e.g., numeric tokens, raw punctuation)\n",
    "    for token in tokens:\n",
    "        if re.search('[a-zA-Z]', token):\n",
    "            filtered_tokens.append(token)\n",
    "    return filtered_tokens"
   ]
  },
  {
   "cell_type": "code",
   "execution_count": 9,
   "metadata": {},
   "outputs": [],
   "source": [
    "#Define two empty lists that will be appended with tokens and stems\n",
    "\n",
    "stemmed_list = []\n",
    "tokenized_list = []"
   ]
  },
  {
   "cell_type": "code",
   "execution_count": 10,
   "metadata": {},
   "outputs": [],
   "source": [
    "'''For every text file into the list 'summary', append the two lists above with the tokens and stems\n",
    "using the functions that we have defined above'''\n",
    "\n",
    "for i in summary:\n",
    "    \n",
    "    allwords_stemmed = tokenize_and_stem(i)\n",
    "    stemmed_list.append(allwords_stemmed)\n",
    "    \n",
    "    allwords_tokenized = tokenize_only(i)\n",
    "    tokenized_list.append(allwords_tokenized)\n"
   ]
  },
  {
   "cell_type": "code",
   "execution_count": 13,
   "metadata": {},
   "outputs": [
    {
     "name": "stdout",
     "output_type": "stream",
     "text": [
      "there are 25670 items in vocab_frame\n"
     ]
    }
   ],
   "source": [
    "#Create a vocabulary with all words\n",
    "\n",
    "vocab_frame = pd.DataFrame({'words': allwords_tokenized}, index = allwords_stemmed)\n",
    "print ('there are ' + str(vocab_frame.shape[0]) + ' items in vocab_frame')\n",
    "#vocab_frame"
   ]
  },
  {
   "cell_type": "code",
   "execution_count": null,
   "metadata": {},
   "outputs": [],
   "source": []
  }
 ],
 "metadata": {
  "kernelspec": {
   "display_name": "Python 3",
   "language": "python",
   "name": "python3"
  },
  "language_info": {
   "codemirror_mode": {
    "name": "ipython",
    "version": 3
   },
   "file_extension": ".py",
   "mimetype": "text/x-python",
   "name": "python",
   "nbconvert_exporter": "python",
   "pygments_lexer": "ipython3",
   "version": "3.7.1"
  }
 },
 "nbformat": 4,
 "nbformat_minor": 2
}
