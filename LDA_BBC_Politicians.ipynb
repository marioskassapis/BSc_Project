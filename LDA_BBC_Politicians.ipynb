{
 "cells": [
  {
   "cell_type": "code",
   "execution_count": 2,
   "metadata": {},
   "outputs": [],
   "source": [
    "import numpy as np\n",
    "from gensim.test.utils import datapath, get_tmpfile\n",
    "from gensim.corpora import WikiCorpus, MmCorpus\n",
    "from gensim import corpora, models, similarities\n",
    "from gensim.test.utils import datapath\n",
    "from gensim.parsing.preprocessing import remove_stopwords\n",
    "import dit\n",
    "from dit.divergences import jensen_shannon_divergence\n",
    "import matplotlib.pyplot as plt\n",
    "import nltk\n",
    "#nltk.download('stopwords')\n",
    "import re\n",
    "from gensim import corpora, models, similarities \n",
    "import bootstrapped.bootstrap as bs\n",
    "import bootstrapped.stats_functions as bs_stats\n",
    "from sklearn.utils import resample\n",
    "import random as rd\n",
    "from sklearn.cluster import KMeans\n",
    "\n",
    "from scipy.spatial import distance"
   ]
  },
  {
   "cell_type": "code",
   "execution_count": 2,
   "metadata": {},
   "outputs": [],
   "source": [
    "#import documents\n",
    "documents = []\n",
    "for i in range(1,10):\n",
    "    f = open(\"bbc//politics//00\"+str(i)+str(\".txt\"))\n",
    "    documents.append(f.read())\n",
    "for i in range(10,100):\n",
    "    f = open(\"bbc//politics//0\"+str(i)+str(\".txt\"))\n",
    "    documents.append(f.read()) \n",
    "for i in range(100,401):\n",
    "    f = open(\"bbc//politics//\"+str(i)+str(\".txt\"))\n",
    "    documents.append(f.read())    \n",
    "    \n",
    "for i in range(1,10):\n",
    "    f = open(\"bbc//business//00\"+str(i)+str(\".txt\"))\n",
    "    documents.append(f.read())\n",
    "for i in range(10,100):\n",
    "    f = open(\"bbc//business//0\"+str(i)+str(\".txt\"))\n",
    "    documents.append(f.read()) \n",
    "for i in range(100,401):\n",
    "    f = open(\"bbc//business//\"+str(i)+str(\".txt\"))\n",
    "    documents.append(f.read()) \n",
    "    \n",
    "for i in range(1,10):\n",
    "    f = open(\"bbc//sport//00\"+str(i)+str(\".txt\"))\n",
    "    documents.append(f.read())\n",
    "for i in range(10,100):\n",
    "    f = open(\"bbc//sport//0\"+str(i)+str(\".txt\"))\n",
    "    documents.append(f.read()) \n",
    "for i in range(100,401):\n",
    "    f = open(\"bbc//sport//\"+str(i)+str(\".txt\"), encoding = 'latin')\n",
    "    documents.append(f.read())\n",
    "    \n",
    "for i in range(1,10):\n",
    "    f = open(\"bbc//tech//00\"+str(i)+str(\".txt\"))\n",
    "    documents.append(f.read())\n",
    "for i in range(10,100):\n",
    "    f = open(\"bbc//tech//0\"+str(i)+str(\".txt\"))\n",
    "    documents.append(f.read()) \n",
    "for i in range(100,401):\n",
    "    f = open(\"bbc//tech//\"+str(i)+str(\".txt\"))\n",
    "    documents.append(f.read())   \n",
    "    \n",
    "for i in range(1,10):\n",
    "    f = open(\"bbc//entertainment//00\"+str(i)+str(\".txt\"))\n",
    "    documents.append(f.read())\n",
    "for i in range(10,100):\n",
    "    f = open(\"bbc//entertainment//0\"+str(i)+str(\".txt\"))\n",
    "    documents.append(f.read()) \n",
    "for i in range(100,386):\n",
    "    f = open(\"bbc//entertainment//\"+str(i)+str(\".txt\"))\n",
    "    documents.append(f.read())    \n",
    "        \n",
    "    \n",
    "    \n",
    "names = np.array([\"Theresa_May.txt\",\"Tony_Blair.txt\",\"Gordon_Brown.txt\",\"Alec_Douglas.txt\",\"David_Cameron.txt\"\n",
    "                  ,\"Edward_Heath.txt\",\"Harold_Wilson.txt\",\"James_Callaghan.txt\",\"John_Major.txt\",\n",
    "                  \"Margaret_Thatcher.txt\",\"Harold_Macmillan.txt\",\"Anthony_Eden.txt\",\"Winston_Churchill.txt\"])\n",
    "\n",
    "for name in names:\n",
    "    #print(name)\n",
    "    f = open(\"Text_Files//\"+name,encoding=\"utf8\")\n",
    "    #documents.append(str(f.read()))"
   ]
  },
  {
   "cell_type": "code",
   "execution_count": 3,
   "metadata": {},
   "outputs": [
    {
     "data": {
      "text/plain": [
       "1985"
      ]
     },
     "execution_count": 3,
     "metadata": {},
     "output_type": "execute_result"
    }
   ],
   "source": [
    "len(documents)"
   ]
  },
  {
   "cell_type": "code",
   "execution_count": 4,
   "metadata": {},
   "outputs": [],
   "source": [
    "def tokenize_only(text):\n",
    "    '''\n",
    "    This function is taken from Brandon Roze\n",
    "    '''\n",
    "    # first tokenize by sentence, then by word to ensure that punctuation is caught as it's own token\n",
    "    tokens = [word.lower() for sent in nltk.sent_tokenize(text) for word in nltk.word_tokenize(sent)]\n",
    "    filtered_tokens = []\n",
    "    # filter out any tokens not containing letters (e.g., numeric tokens, raw punctuation)\n",
    "    for token in tokens:\n",
    "        if re.search('[a-zA-Z]', token):\n",
    "            filtered_tokens.append(token)\n",
    "    return filtered_tokens\n",
    "\n",
    "\n",
    "stopwords = nltk.corpus.stopwords.words('english')\n"
   ]
  },
  {
   "cell_type": "code",
   "execution_count": 5,
   "metadata": {},
   "outputs": [
    {
     "name": "stdout",
     "output_type": "stream",
     "text": [
      "CPU times: user 8.94 s, sys: 91.3 ms, total: 9.03 s\n",
      "Wall time: 9.12 s\n",
      "ok\n",
      "CPU times: user 1.29 s, sys: 8.61 ms, total: 1.29 s\n",
      "Wall time: 1.3 s\n",
      "ok\n"
     ]
    }
   ],
   "source": [
    "#tokenize\n",
    "\n",
    "%time tokenized_list = [tokenize_only(text) for text in documents]\n",
    "print(\"ok\")\n",
    "#remove stop words\n",
    "%time texts = [[word for word in text if word not in stopwords] for text in tokenized_list]\n",
    "print(\"ok\")"
   ]
  },
  {
   "cell_type": "code",
   "execution_count": 6,
   "metadata": {},
   "outputs": [],
   "source": [
    "#create a Gensim dictionary from the texts\n",
    "dictionary = corpora.Dictionary(texts)\n",
    "\n",
    "#remove extremes (similar to the min/max df step used when creating the tf-idf matrix)\n",
    "dictionary.filter_extremes(no_below=0.1, no_above=0.8)\n",
    "\n",
    "#convert the dictionary to a bag of words corpus for reference\n",
    "corpus = [dictionary.doc2bow(text) for text in texts]"
   ]
  },
  {
   "cell_type": "code",
   "execution_count": 7,
   "metadata": {},
   "outputs": [],
   "source": [
    "#%time lda = models.LdaModel(corpus, num_topics=20, id2word=dictionary, update_every=5, chunksize=10000, passes=100)"
   ]
  },
  {
   "cell_type": "code",
   "execution_count": 8,
   "metadata": {},
   "outputs": [],
   "source": [
    "#lda.save(\"bbc_model_whole\")"
   ]
  },
  {
   "cell_type": "code",
   "execution_count": 9,
   "metadata": {},
   "outputs": [],
   "source": [
    "lda = models.LdaModel.load(\"bbc_model_whole\")\n",
    "\n"
   ]
  },
  {
   "cell_type": "markdown",
   "metadata": {},
   "source": [
    "Having successfully trained our model we can use it to give us a topic distribution over the politicians we are interested in."
   ]
  },
  {
   "cell_type": "code",
   "execution_count": 10,
   "metadata": {},
   "outputs": [],
   "source": [
    "names = np.array([\"Theresa_May.txt\",\"Tony_Blair.txt\",\"Gordon_Brown.txt\",\"Alec_Douglas.txt\",\"David_Cameron.txt\"\n",
    "                  ,\"Edward_Heath.txt\",\"Harold_Wilson.txt\",\"James_Callaghan.txt\",\"John_Major.txt\",\n",
    "                  \"Margaret_Thatcher.txt\",\"Harold_Macmillan.txt\",\"Anthony_Eden.txt\",\"Winston_Churchill.txt\",\"LFC_text.txt\"])[:-1]\n",
    "proper_names = [\"Theresa May\",\"Tony Blair\",\"Gordon Brown\",\"Alec Douglas\",\"David Cameron\",\"Edward Heath\",\"Harold Wilson\",\n",
    "           \"James Callaghan\",\"John Major\",\"Margaret Thatcher\",\"Harold Macmillan\",\"Anthony Eden\",\"Winston Churchill\"]\n",
    "\n",
    "summary = []\n",
    "\n",
    "for name in names:\n",
    "    #print(name)\n",
    "    f = open(\"Text_Files//\"+name,encoding=\"utf8\")\n",
    "    summary.append(f.read())"
   ]
  },
  {
   "cell_type": "code",
   "execution_count": 11,
   "metadata": {},
   "outputs": [
    {
     "ename": "IndexError",
     "evalue": "index 31024 is out of bounds for axis 1 with size 30990",
     "output_type": "error",
     "traceback": [
      "\u001b[0;31m---------------------------------------------------------------------------\u001b[0m",
      "\u001b[0;31mIndexError\u001b[0m                                Traceback (most recent call last)",
      "\u001b[0;32m<ipython-input-11-843fe516e56b>\u001b[0m in \u001b[0;36m<module>\u001b[0;34m\u001b[0m\n\u001b[1;32m     19\u001b[0m \u001b[0;34m\u001b[0m\u001b[0m\n\u001b[1;32m     20\u001b[0m \u001b[0;34m\u001b[0m\u001b[0m\n\u001b[0;32m---> 21\u001b[0;31m \u001b[0monly_topics\u001b[0m\u001b[0;34m,\u001b[0m\u001b[0monly_numbers\u001b[0m\u001b[0;34m,\u001b[0m\u001b[0mtopic_matrix\u001b[0m \u001b[0;34m=\u001b[0m \u001b[0mtopicz\u001b[0m\u001b[0;34m(\u001b[0m\u001b[0msummary\u001b[0m\u001b[0;34m,\u001b[0m\u001b[0;36m20\u001b[0m\u001b[0;34m)\u001b[0m\u001b[0;34m\u001b[0m\u001b[0;34m\u001b[0m\u001b[0m\n\u001b[0m",
      "\u001b[0;32m<ipython-input-11-843fe516e56b>\u001b[0m in \u001b[0;36mtopicz\u001b[0;34m(text, no_topics)\u001b[0m\n\u001b[1;32m      6\u001b[0m         \u001b[0mnew_vec\u001b[0m \u001b[0;34m=\u001b[0m \u001b[0mdictionary\u001b[0m\u001b[0;34m.\u001b[0m\u001b[0mdoc2bow\u001b[0m\u001b[0;34m(\u001b[0m\u001b[0mnew_doc\u001b[0m\u001b[0;34m.\u001b[0m\u001b[0mlower\u001b[0m\u001b[0;34m(\u001b[0m\u001b[0;34m)\u001b[0m\u001b[0;34m.\u001b[0m\u001b[0msplit\u001b[0m\u001b[0;34m(\u001b[0m\u001b[0;34m)\u001b[0m\u001b[0;34m)\u001b[0m\u001b[0;34m\u001b[0m\u001b[0;34m\u001b[0m\u001b[0m\n\u001b[1;32m      7\u001b[0m         \u001b[0;31m#new_vec = dictionary.doc2bow(new_doc)\u001b[0m\u001b[0;34m\u001b[0m\u001b[0;34m\u001b[0m\u001b[0;34m\u001b[0m\u001b[0m\n\u001b[0;32m----> 8\u001b[0;31m         \u001b[0mtopic_distribution\u001b[0m\u001b[0;34m.\u001b[0m\u001b[0mappend\u001b[0m\u001b[0;34m(\u001b[0m\u001b[0mlda\u001b[0m\u001b[0;34m[\u001b[0m\u001b[0mnew_vec\u001b[0m\u001b[0;34m]\u001b[0m\u001b[0;34m)\u001b[0m\u001b[0;34m\u001b[0m\u001b[0;34m\u001b[0m\u001b[0m\n\u001b[0m\u001b[1;32m      9\u001b[0m \u001b[0;34m\u001b[0m\u001b[0m\n\u001b[1;32m     10\u001b[0m     \u001b[0mtopics\u001b[0m \u001b[0;34m=\u001b[0m \u001b[0;34m[\u001b[0m\u001b[0;34m[\u001b[0m\u001b[0;34m[\u001b[0m\u001b[0mx\u001b[0m \u001b[0;32mfor\u001b[0m \u001b[0mx\u001b[0m \u001b[0;32min\u001b[0m \u001b[0my\u001b[0m\u001b[0;34m]\u001b[0m \u001b[0;32mfor\u001b[0m \u001b[0my\u001b[0m \u001b[0;32min\u001b[0m \u001b[0mz\u001b[0m\u001b[0;34m]\u001b[0m \u001b[0;32mfor\u001b[0m \u001b[0mz\u001b[0m \u001b[0;32min\u001b[0m \u001b[0mtopic_distribution\u001b[0m\u001b[0;34m]\u001b[0m\u001b[0;34m\u001b[0m\u001b[0;34m\u001b[0m\u001b[0m\n",
      "\u001b[0;32m~/anaconda3/lib/python3.7/site-packages/gensim/models/ldamodel.py\u001b[0m in \u001b[0;36m__getitem__\u001b[0;34m(self, bow, eps)\u001b[0m\n\u001b[1;32m   1522\u001b[0m \u001b[0;34m\u001b[0m\u001b[0m\n\u001b[1;32m   1523\u001b[0m         \"\"\"\n\u001b[0;32m-> 1524\u001b[0;31m         \u001b[0;32mreturn\u001b[0m \u001b[0mself\u001b[0m\u001b[0;34m.\u001b[0m\u001b[0mget_document_topics\u001b[0m\u001b[0;34m(\u001b[0m\u001b[0mbow\u001b[0m\u001b[0;34m,\u001b[0m \u001b[0meps\u001b[0m\u001b[0;34m,\u001b[0m \u001b[0mself\u001b[0m\u001b[0;34m.\u001b[0m\u001b[0mminimum_phi_value\u001b[0m\u001b[0;34m,\u001b[0m \u001b[0mself\u001b[0m\u001b[0;34m.\u001b[0m\u001b[0mper_word_topics\u001b[0m\u001b[0;34m)\u001b[0m\u001b[0;34m\u001b[0m\u001b[0;34m\u001b[0m\u001b[0m\n\u001b[0m\u001b[1;32m   1525\u001b[0m \u001b[0;34m\u001b[0m\u001b[0m\n\u001b[1;32m   1526\u001b[0m     \u001b[0;32mdef\u001b[0m \u001b[0msave\u001b[0m\u001b[0;34m(\u001b[0m\u001b[0mself\u001b[0m\u001b[0;34m,\u001b[0m \u001b[0mfname\u001b[0m\u001b[0;34m,\u001b[0m \u001b[0mignore\u001b[0m\u001b[0;34m=\u001b[0m\u001b[0;34m(\u001b[0m\u001b[0;34m'state'\u001b[0m\u001b[0;34m,\u001b[0m \u001b[0;34m'dispatcher'\u001b[0m\u001b[0;34m)\u001b[0m\u001b[0;34m,\u001b[0m \u001b[0mseparately\u001b[0m\u001b[0;34m=\u001b[0m\u001b[0;32mNone\u001b[0m\u001b[0;34m,\u001b[0m \u001b[0;34m*\u001b[0m\u001b[0margs\u001b[0m\u001b[0;34m,\u001b[0m \u001b[0;34m**\u001b[0m\u001b[0mkwargs\u001b[0m\u001b[0;34m)\u001b[0m\u001b[0;34m:\u001b[0m\u001b[0;34m\u001b[0m\u001b[0;34m\u001b[0m\u001b[0m\n",
      "\u001b[0;32m~/anaconda3/lib/python3.7/site-packages/gensim/models/ldamodel.py\u001b[0m in \u001b[0;36mget_document_topics\u001b[0;34m(self, bow, minimum_probability, minimum_phi_value, per_word_topics)\u001b[0m\n\u001b[1;32m   1327\u001b[0m             \u001b[0;32mreturn\u001b[0m \u001b[0mself\u001b[0m\u001b[0;34m.\u001b[0m\u001b[0m_apply\u001b[0m\u001b[0;34m(\u001b[0m\u001b[0mcorpus\u001b[0m\u001b[0;34m,\u001b[0m \u001b[0;34m**\u001b[0m\u001b[0mkwargs\u001b[0m\u001b[0;34m)\u001b[0m\u001b[0;34m\u001b[0m\u001b[0;34m\u001b[0m\u001b[0m\n\u001b[1;32m   1328\u001b[0m \u001b[0;34m\u001b[0m\u001b[0m\n\u001b[0;32m-> 1329\u001b[0;31m         \u001b[0mgamma\u001b[0m\u001b[0;34m,\u001b[0m \u001b[0mphis\u001b[0m \u001b[0;34m=\u001b[0m \u001b[0mself\u001b[0m\u001b[0;34m.\u001b[0m\u001b[0minference\u001b[0m\u001b[0;34m(\u001b[0m\u001b[0;34m[\u001b[0m\u001b[0mbow\u001b[0m\u001b[0;34m]\u001b[0m\u001b[0;34m,\u001b[0m \u001b[0mcollect_sstats\u001b[0m\u001b[0;34m=\u001b[0m\u001b[0mper_word_topics\u001b[0m\u001b[0;34m)\u001b[0m\u001b[0;34m\u001b[0m\u001b[0;34m\u001b[0m\u001b[0m\n\u001b[0m\u001b[1;32m   1330\u001b[0m         \u001b[0mtopic_dist\u001b[0m \u001b[0;34m=\u001b[0m \u001b[0mgamma\u001b[0m\u001b[0;34m[\u001b[0m\u001b[0;36m0\u001b[0m\u001b[0;34m]\u001b[0m \u001b[0;34m/\u001b[0m \u001b[0msum\u001b[0m\u001b[0;34m(\u001b[0m\u001b[0mgamma\u001b[0m\u001b[0;34m[\u001b[0m\u001b[0;36m0\u001b[0m\u001b[0;34m]\u001b[0m\u001b[0;34m)\u001b[0m  \u001b[0;31m# normalize distribution\u001b[0m\u001b[0;34m\u001b[0m\u001b[0;34m\u001b[0m\u001b[0m\n\u001b[1;32m   1331\u001b[0m \u001b[0;34m\u001b[0m\u001b[0m\n",
      "\u001b[0;32m~/anaconda3/lib/python3.7/site-packages/gensim/models/ldamodel.py\u001b[0m in \u001b[0;36minference\u001b[0;34m(self, chunk, collect_sstats)\u001b[0m\n\u001b[1;32m    678\u001b[0m             \u001b[0mElogthetad\u001b[0m \u001b[0;34m=\u001b[0m \u001b[0mElogtheta\u001b[0m\u001b[0;34m[\u001b[0m\u001b[0md\u001b[0m\u001b[0;34m,\u001b[0m \u001b[0;34m:\u001b[0m\u001b[0;34m]\u001b[0m\u001b[0;34m\u001b[0m\u001b[0;34m\u001b[0m\u001b[0m\n\u001b[1;32m    679\u001b[0m             \u001b[0mexpElogthetad\u001b[0m \u001b[0;34m=\u001b[0m \u001b[0mexpElogtheta\u001b[0m\u001b[0;34m[\u001b[0m\u001b[0md\u001b[0m\u001b[0;34m,\u001b[0m \u001b[0;34m:\u001b[0m\u001b[0;34m]\u001b[0m\u001b[0;34m\u001b[0m\u001b[0;34m\u001b[0m\u001b[0m\n\u001b[0;32m--> 680\u001b[0;31m             \u001b[0mexpElogbetad\u001b[0m \u001b[0;34m=\u001b[0m \u001b[0mself\u001b[0m\u001b[0;34m.\u001b[0m\u001b[0mexpElogbeta\u001b[0m\u001b[0;34m[\u001b[0m\u001b[0;34m:\u001b[0m\u001b[0;34m,\u001b[0m \u001b[0mids\u001b[0m\u001b[0;34m]\u001b[0m\u001b[0;34m\u001b[0m\u001b[0;34m\u001b[0m\u001b[0m\n\u001b[0m\u001b[1;32m    681\u001b[0m \u001b[0;34m\u001b[0m\u001b[0m\n\u001b[1;32m    682\u001b[0m             \u001b[0;31m# The optimal phi_{dwk} is proportional to expElogthetad_k * expElogbetad_w.\u001b[0m\u001b[0;34m\u001b[0m\u001b[0;34m\u001b[0m\u001b[0;34m\u001b[0m\u001b[0m\n",
      "\u001b[0;31mIndexError\u001b[0m: index 31024 is out of bounds for axis 1 with size 30990"
     ]
    }
   ],
   "source": [
    "#get the topic distribution for each politician\n",
    "def topicz(text,no_topics):\n",
    "    topic_distribution =[]\n",
    "    for i in text:\n",
    "        new_doc = i\n",
    "        new_vec = dictionary.doc2bow(new_doc.lower().split())\n",
    "        #new_vec = dictionary.doc2bow(new_doc)\n",
    "        topic_distribution.append(lda[new_vec])\n",
    "\n",
    "    topics = [[[x for x in y] for y in z] for z in topic_distribution]\n",
    "    only_numbers = [[float(word[1]) for word in topic] for topic in topics]\n",
    "    only_topics = [[word[0] for word in topic] for topic in topics]\n",
    "\n",
    "    topic_matrix = np.zeros((len(text),no_topics))\n",
    "    for i in range(len(text)):\n",
    "        topic_matrix[i,only_topics[i]] = only_numbers[i]\n",
    "    return only_topics,only_numbers,topic_matrix\n",
    "\n",
    "\n",
    "\n",
    "only_topics,only_numbers,topic_matrix = topicz(summary,20)\n"
   ]
  },
  {
   "cell_type": "code",
   "execution_count": null,
   "metadata": {},
   "outputs": [],
   "source": []
  },
  {
   "cell_type": "code",
   "execution_count": 12,
   "metadata": {},
   "outputs": [],
   "source": [
    "#let's also make this a document - topic matric which we can apply PCA directly on.\n"
   ]
  },
  {
   "cell_type": "code",
   "execution_count": 25,
   "metadata": {},
   "outputs": [
    {
     "data": {
      "text/plain": [
       "[(1,\n",
       "  [('would', 0.007068245),\n",
       "   ('new', 0.006422472),\n",
       "   ('one', 0.005419768),\n",
       "   ('ukip', 0.0050973278),\n",
       "   ('also', 0.004338213),\n",
       "   ('kilroy-silk', 0.0041818004),\n",
       "   (\"n't\", 0.0038038273),\n",
       "   ('deal', 0.0034378932),\n",
       "   ('last', 0.0032002644),\n",
       "   ('good', 0.002872353),\n",
       "   ('two', 0.0028141171),\n",
       "   ('number', 0.0027514894),\n",
       "   ('time', 0.002744666),\n",
       "   ('made', 0.0027001088),\n",
       "   ('like', 0.0025927399),\n",
       "   ('make', 0.0025914013),\n",
       "   ('liverpool', 0.002456774),\n",
       "   ('want', 0.002385017),\n",
       "   ('think', 0.0023495595),\n",
       "   ('first', 0.0022639954)]),\n",
       " (4,\n",
       "  [('cards', 0.006666371),\n",
       "   ('id', 0.00613429),\n",
       "   ('children', 0.00534009),\n",
       "   ('new', 0.0045487946),\n",
       "   ('also', 0.004063315),\n",
       "   ('brown', 0.0034255814),\n",
       "   ('people', 0.0032200736),\n",
       "   ('lord', 0.0030917204),\n",
       "   ('added', 0.0029339113),\n",
       "   ('world', 0.002620097),\n",
       "   ('one', 0.0025636684),\n",
       "   ('next', 0.0025126534),\n",
       "   ('research', 0.0025034074),\n",
       "   ('christmas', 0.0024961976),\n",
       "   ('would', 0.0024162862),\n",
       "   ('good', 0.0023452474),\n",
       "   ('work', 0.0023191855),\n",
       "   ('years', 0.0022826344),\n",
       "   ('like', 0.0022729),\n",
       "   (\"n't\", 0.0021597822)]),\n",
       " (13,\n",
       "  [('fiat', 0.0069371467),\n",
       "   ('chart', 0.0064502484),\n",
       "   ('car', 0.006097102),\n",
       "   ('gm', 0.006046188),\n",
       "   ('new', 0.0059796018),\n",
       "   ('sales', 0.00490085),\n",
       "   ('would', 0.0039062246),\n",
       "   ('us', 0.0038835194),\n",
       "   ('forsyth', 0.0037677826),\n",
       "   ('year', 0.0037440837),\n",
       "   ('one', 0.0035080193),\n",
       "   ('bmw', 0.003470835),\n",
       "   ('world', 0.0033008761),\n",
       "   ('aid', 0.0032909682),\n",
       "   ('donations', 0.0032446259),\n",
       "   ('top', 0.003026118),\n",
       "   ('could', 0.002929146),\n",
       "   ('download', 0.0027545162),\n",
       "   ('cars', 0.002728235),\n",
       "   ('singles', 0.0027243174)]),\n",
       " (15,\n",
       "  [('years', 0.0043360265),\n",
       "   ('former', 0.0040737125),\n",
       "   ('also', 0.003935045),\n",
       "   ('government', 0.0033894402),\n",
       "   ('could', 0.0033334817),\n",
       "   ('one', 0.003217736),\n",
       "   ('police', 0.0031726675),\n",
       "   ('tobacco', 0.0031251763),\n",
       "   ('would', 0.0030967256),\n",
       "   ('director', 0.0028853745),\n",
       "   ('part', 0.00265129),\n",
       "   ('life', 0.0024325517),\n",
       "   ('turkey', 0.0023557094),\n",
       "   ('parmalat', 0.0022976056),\n",
       "   ('argentina', 0.002241098),\n",
       "   ('companies', 0.002239937),\n",
       "   ('john', 0.0022397551),\n",
       "   ('big', 0.0021791137),\n",
       "   ('monday', 0.002134292),\n",
       "   ('five', 0.0021286544)]),\n",
       " (16,\n",
       "  [('england', 0.009831175),\n",
       "   ('ireland', 0.007877105),\n",
       "   ('world', 0.007796776),\n",
       "   ('wales', 0.0074224793),\n",
       "   ('rugby', 0.006101449),\n",
       "   ('first', 0.005831962),\n",
       "   ('france', 0.00549621),\n",
       "   ('six', 0.005089861),\n",
       "   ('win', 0.005055704),\n",
       "   ('game', 0.0049824296),\n",
       "   ('last', 0.0046067177),\n",
       "   ('team', 0.0045934916),\n",
       "   ('time', 0.004486024),\n",
       "   (\"n't\", 0.004461445),\n",
       "   ('nations', 0.004442826),\n",
       "   ('new', 0.0042959345),\n",
       "   ('coach', 0.0040892353),\n",
       "   ('final', 0.0038559127),\n",
       "   ('robinson', 0.0038427783),\n",
       "   ('year', 0.0038202798)]),\n",
       " (9,\n",
       "  [('games', 0.010797945),\n",
       "   ('game', 0.0075440267),\n",
       "   ('industry', 0.0059182364),\n",
       "   ('year', 0.005869167),\n",
       "   ('us', 0.0056462693),\n",
       "   ('show', 0.0053135953),\n",
       "   ('video', 0.0046820543),\n",
       "   ('also', 0.00436638),\n",
       "   ('new', 0.0041456646),\n",
       "   ('world', 0.0038281241),\n",
       "   ('time', 0.0037141785),\n",
       "   ('one', 0.003443152),\n",
       "   ('would', 0.0032965126),\n",
       "   ('women', 0.0030673523),\n",
       "   ('people', 0.0029895115),\n",
       "   ('technologies', 0.002793142),\n",
       "   ('music', 0.0027467327),\n",
       "   ('electronics', 0.0025112352),\n",
       "   ('consumer', 0.002458648),\n",
       "   ('media', 0.0022721542)]),\n",
       " (3,\n",
       "  [('eu', 0.007729231),\n",
       "   ('countries', 0.006485808),\n",
       "   ('would', 0.006420781),\n",
       "   ('world', 0.0060343277),\n",
       "   ('china', 0.0060035577),\n",
       "   ('also', 0.0059533776),\n",
       "   ('us', 0.0057656895),\n",
       "   ('foreign', 0.0053953477),\n",
       "   ('mr', 0.0051779356),\n",
       "   ('government', 0.004722189),\n",
       "   ('could', 0.004204062),\n",
       "   ('european', 0.00412925),\n",
       "   ('uk', 0.0040737344),\n",
       "   ('aid', 0.004062621),\n",
       "   ('deal', 0.004002881),\n",
       "   ('country', 0.0039397925),\n",
       "   ('president', 0.0035761464),\n",
       "   ('new', 0.0035412416),\n",
       "   ('may', 0.003515885),\n",
       "   ('company', 0.0034948774)]),\n",
       " (2,\n",
       "  [('mr', 0.023325073),\n",
       "   ('would', 0.014067733),\n",
       "   ('government', 0.010676643),\n",
       "   ('labour', 0.0098688975),\n",
       "   ('people', 0.008120752),\n",
       "   ('blair', 0.007493707),\n",
       "   ('election', 0.0074012293),\n",
       "   ('party', 0.006919158),\n",
       "   ('minister', 0.0057774386),\n",
       "   ('brown', 0.0048900307),\n",
       "   ('told', 0.0047120256),\n",
       "   ('public', 0.0044765216),\n",
       "   ('could', 0.0044040303),\n",
       "   ('plans', 0.00431839),\n",
       "   ('also', 0.004110072),\n",
       "   ('new', 0.004021637),\n",
       "   ('prime', 0.0040116105),\n",
       "   ('howard', 0.0039708293),\n",
       "   ('tax', 0.0038819073),\n",
       "   ('say', 0.0036015734)]),\n",
       " (5,\n",
       "  [('nintendo', 0.010273842),\n",
       "   ('gaming', 0.009760278),\n",
       "   ('us', 0.0077218744),\n",
       "   ('ds', 0.007700227),\n",
       "   ('new', 0.006567991),\n",
       "   ('sony', 0.0064487597),\n",
       "   ('games', 0.006265759),\n",
       "   ('gamers', 0.006188283),\n",
       "   ('handheld', 0.005705532),\n",
       "   ('console', 0.005359664),\n",
       "   ('also', 0.005170862),\n",
       "   ('psp', 0.0050562965),\n",
       "   ('first', 0.004417218),\n",
       "   ('europe', 0.004168214),\n",
       "   ('game', 0.0039785807),\n",
       "   ('device', 0.0037396927),\n",
       "   ('launch', 0.0035122768),\n",
       "   ('mr', 0.0033300132),\n",
       "   ('japan', 0.0031667512),\n",
       "   ('sale', 0.0031311873)]),\n",
       " (14,\n",
       "  [('film', 0.029445436),\n",
       "   ('best', 0.016128378),\n",
       "   ('awards', 0.008471655),\n",
       "   ('award', 0.007815867),\n",
       "   ('director', 0.007624714),\n",
       "   ('films', 0.007600243),\n",
       "   ('actor', 0.007315211),\n",
       "   ('also', 0.0071099647),\n",
       "   ('year', 0.006956357),\n",
       "   ('star', 0.006027421),\n",
       "   ('actress', 0.005875802),\n",
       "   ('festival', 0.00539236),\n",
       "   ('movie', 0.0049143033),\n",
       "   ('comedy', 0.004742706),\n",
       "   ('oscar', 0.0043143686),\n",
       "   ('british', 0.004137535),\n",
       "   ('first', 0.0039412053),\n",
       "   ('aviator', 0.0037939101),\n",
       "   ('hollywood', 0.0037601069),\n",
       "   ('box', 0.0037086753)])]"
      ]
     },
     "execution_count": 25,
     "metadata": {},
     "output_type": "execute_result"
    }
   ],
   "source": [
    "lda.show_topics(formatted=False, num_words=20)"
   ]
  },
  {
   "cell_type": "code",
   "execution_count": 12,
   "metadata": {},
   "outputs": [
    {
     "ename": "NameError",
     "evalue": "name 'topic_matrix' is not defined",
     "output_type": "error",
     "traceback": [
      "\u001b[0;31m---------------------------------------------------------------------------\u001b[0m",
      "\u001b[0;31mNameError\u001b[0m                                 Traceback (most recent call last)",
      "\u001b[0;32m<ipython-input-12-4d0ce8236799>\u001b[0m in \u001b[0;36m<module>\u001b[0;34m\u001b[0m\n\u001b[1;32m      2\u001b[0m \u001b[0;34m\u001b[0m\u001b[0m\n\u001b[1;32m      3\u001b[0m \u001b[0;32mfor\u001b[0m \u001b[0mi\u001b[0m \u001b[0;32min\u001b[0m \u001b[0mrange\u001b[0m\u001b[0;34m(\u001b[0m\u001b[0mlen\u001b[0m\u001b[0;34m(\u001b[0m\u001b[0mnames\u001b[0m\u001b[0;34m)\u001b[0m\u001b[0;34m)\u001b[0m\u001b[0;34m:\u001b[0m\u001b[0;34m\u001b[0m\u001b[0;34m\u001b[0m\u001b[0m\n\u001b[0;32m----> 4\u001b[0;31m     plt.plot(topic_matrix[i,:],\"o-\", alpha = 0.6, color = (0.2, 0.5, i/13), \n\u001b[0m\u001b[1;32m      5\u001b[0m              label = proper_names[i],markeredgecolor =\"black\")\n\u001b[1;32m      6\u001b[0m \u001b[0;34m\u001b[0m\u001b[0m\n",
      "\u001b[0;31mNameError\u001b[0m: name 'topic_matrix' is not defined"
     ]
    },
    {
     "data": {
      "text/plain": [
       "<Figure size 720x360 with 0 Axes>"
      ]
     },
     "metadata": {},
     "output_type": "display_data"
    }
   ],
   "source": [
    "plt.figure(figsize = (10,5))\n",
    "\n",
    "for i in range(len(names)):\n",
    "    plt.plot(topic_matrix[i,:],\"o-\", alpha = 0.6, color = (0.2, 0.5, i/13), \n",
    "             label = proper_names[i],markeredgecolor =\"black\")\n",
    "    \n",
    "#plt.plot(topic_matrix[13,:],\"o-\", alpha = 0.5, color = (1,0,0))\n",
    "\n",
    "plt.grid()\n",
    "plt.xticks(range(0,20),range(1,21))\n",
    "plt.legend(bbox_to_anchor = (1,1),fontsize = \"large\")\n",
    "plt.xlabel(\"Topic Number\",fontsize  =12)\n",
    "plt.ylabel(\"Probability\",fontsize  =12)\n",
    "#plt.savefig(\"Figures\\\\LDA_BBC\\\\DNA_politicians.pdf\",bbox_inches=\"tight\")"
   ]
  },
  {
   "cell_type": "code",
   "execution_count": null,
   "metadata": {},
   "outputs": [],
   "source": []
  },
  {
   "cell_type": "code",
   "execution_count": 13,
   "metadata": {},
   "outputs": [
    {
     "name": "stdout",
     "output_type": "stream",
     "text": [
      "[0, 1, 2, 3, 4, 5, 6, 7, 8, 9, 10, 11, 12, 13, 14, 15, 16, 17, 18, 19]\n"
     ]
    }
   ],
   "source": [
    "def sj_distance(only_topics,only_numbers):\n",
    "    l = len(only_numbers)\n",
    "    distance_matrix = np.zeros((l,l))\n",
    "    for i in range(l):\n",
    "        for j in range(l):\n",
    "            #print(i,j)\n",
    "            X = dit.ScalarDistribution(outcomes = only_topics[i],pmf = normalise(only_numbers[i]),validate = False,\n",
    "                               base = \"linear\", sample_space = space)\n",
    "            Y = dit.ScalarDistribution(outcomes = only_topics[j],pmf = normalise(only_numbers[j]),validate = False,\n",
    "                               base = \"linear\", sample_space = space)\n",
    "            distance_matrix[i,j] = np.sqrt(jensen_shannon_divergence([X,Y]))\n",
    "    return distance_matrix\n",
    "\n",
    "space = [i for i in range(0,20,1)]\n",
    "print(space)\n",
    "\n",
    "def normalise(list1):\n",
    "    return (np.asarray(list1)/sum(list1))\n"
   ]
  },
  {
   "cell_type": "code",
   "execution_count": 14,
   "metadata": {},
   "outputs": [
    {
     "ename": "AttributeError",
     "evalue": "'list' object has no attribute 'lower'",
     "output_type": "error",
     "traceback": [
      "\u001b[0;31m---------------------------------------------------------------------------\u001b[0m",
      "\u001b[0;31mAttributeError\u001b[0m                            Traceback (most recent call last)",
      "\u001b[0;32m<ipython-input-14-95b5fc78fe70>\u001b[0m in \u001b[0;36m<module>\u001b[0;34m\u001b[0m\n\u001b[1;32m      8\u001b[0m     \u001b[0mtemp_boot\u001b[0m \u001b[0;34m=\u001b[0m \u001b[0mresample\u001b[0m\u001b[0;34m(\u001b[0m\u001b[0mtemp_token\u001b[0m\u001b[0;34m,\u001b[0m \u001b[0mreplace\u001b[0m \u001b[0;34m=\u001b[0m \u001b[0;32mFalse\u001b[0m\u001b[0;34m,\u001b[0m \u001b[0mn_samples\u001b[0m \u001b[0;34m=\u001b[0m \u001b[0mint\u001b[0m\u001b[0;34m(\u001b[0m\u001b[0;36m1\u001b[0m\u001b[0;34m*\u001b[0m\u001b[0mtemp_length\u001b[0m\u001b[0;34m)\u001b[0m\u001b[0;34m,\u001b[0m\u001b[0mrandom_state\u001b[0m \u001b[0;34m=\u001b[0m \u001b[0mseed\u001b[0m\u001b[0;34m)\u001b[0m\u001b[0;34m\u001b[0m\u001b[0;34m\u001b[0m\u001b[0m\n\u001b[1;32m      9\u001b[0m     \u001b[0mboot_all\u001b[0m\u001b[0;34m.\u001b[0m\u001b[0mappend\u001b[0m\u001b[0;34m(\u001b[0m\u001b[0mtemp_boot\u001b[0m\u001b[0;34m)\u001b[0m\u001b[0;34m\u001b[0m\u001b[0;34m\u001b[0m\u001b[0m\n\u001b[0;32m---> 10\u001b[0;31m \u001b[0monly_topics\u001b[0m\u001b[0;34m,\u001b[0m\u001b[0monly_numbers\u001b[0m\u001b[0;34m,\u001b[0m\u001b[0mtopic_matrix\u001b[0m \u001b[0;34m=\u001b[0m \u001b[0mtopicz\u001b[0m\u001b[0;34m(\u001b[0m\u001b[0mboot_all\u001b[0m\u001b[0;34m,\u001b[0m\u001b[0;36m20\u001b[0m\u001b[0;34m)\u001b[0m\u001b[0;34m\u001b[0m\u001b[0;34m\u001b[0m\u001b[0m\n\u001b[0m\u001b[1;32m     11\u001b[0m \u001b[0;34m\u001b[0m\u001b[0m\n\u001b[1;32m     12\u001b[0m \u001b[0;31m#topic distributions are not normalised ==> need to do it manually\u001b[0m\u001b[0;34m\u001b[0m\u001b[0;34m\u001b[0m\u001b[0;34m\u001b[0m\u001b[0m\n",
      "\u001b[0;32m<ipython-input-11-843fe516e56b>\u001b[0m in \u001b[0;36mtopicz\u001b[0;34m(text, no_topics)\u001b[0m\n\u001b[1;32m      4\u001b[0m     \u001b[0;32mfor\u001b[0m \u001b[0mi\u001b[0m \u001b[0;32min\u001b[0m \u001b[0mtext\u001b[0m\u001b[0;34m:\u001b[0m\u001b[0;34m\u001b[0m\u001b[0;34m\u001b[0m\u001b[0m\n\u001b[1;32m      5\u001b[0m         \u001b[0mnew_doc\u001b[0m \u001b[0;34m=\u001b[0m \u001b[0mi\u001b[0m\u001b[0;34m\u001b[0m\u001b[0;34m\u001b[0m\u001b[0m\n\u001b[0;32m----> 6\u001b[0;31m         \u001b[0mnew_vec\u001b[0m \u001b[0;34m=\u001b[0m \u001b[0mdictionary\u001b[0m\u001b[0;34m.\u001b[0m\u001b[0mdoc2bow\u001b[0m\u001b[0;34m(\u001b[0m\u001b[0mnew_doc\u001b[0m\u001b[0;34m.\u001b[0m\u001b[0mlower\u001b[0m\u001b[0;34m(\u001b[0m\u001b[0;34m)\u001b[0m\u001b[0;34m.\u001b[0m\u001b[0msplit\u001b[0m\u001b[0;34m(\u001b[0m\u001b[0;34m)\u001b[0m\u001b[0;34m)\u001b[0m\u001b[0;34m\u001b[0m\u001b[0;34m\u001b[0m\u001b[0m\n\u001b[0m\u001b[1;32m      7\u001b[0m         \u001b[0;31m#new_vec = dictionary.doc2bow(new_doc)\u001b[0m\u001b[0;34m\u001b[0m\u001b[0;34m\u001b[0m\u001b[0;34m\u001b[0m\u001b[0m\n\u001b[1;32m      8\u001b[0m         \u001b[0mtopic_distribution\u001b[0m\u001b[0;34m.\u001b[0m\u001b[0mappend\u001b[0m\u001b[0;34m(\u001b[0m\u001b[0mlda\u001b[0m\u001b[0;34m[\u001b[0m\u001b[0mnew_vec\u001b[0m\u001b[0;34m]\u001b[0m\u001b[0;34m)\u001b[0m\u001b[0;34m\u001b[0m\u001b[0;34m\u001b[0m\u001b[0m\n",
      "\u001b[0;31mAttributeError\u001b[0m: 'list' object has no attribute 'lower'"
     ]
    }
   ],
   "source": [
    "boot_all = []\n",
    "seed = 100\n",
    "for i in range(len(summary)):\n",
    "    \n",
    "    PM_text = summary[i] \n",
    "    temp_token = tokenize_only(PM_text)\n",
    "    temp_length = len(temp_token)\n",
    "    temp_boot = resample(temp_token, replace = False, n_samples = int(1*temp_length),random_state = seed)\n",
    "    boot_all.append(temp_boot)\n",
    "only_topics,only_numbers,topic_matrix = topicz(boot_all,20) \n",
    "\n",
    "#topic distributions are not normalised ==> need to do it manually\n",
    "def normalise(list1):\n",
    "    return (np.asarray(list1)/sum(list1))\n",
    "\n",
    "normalise(only_numbers[0])\n",
    "space = [i for i in range(0,20,1)]\n",
    "print(space)\n",
    "\n",
    "\n",
    "#need to do the above in a way tha create a distance matrix\n",
    "#will use an array\n",
    "\n",
    "\n",
    "distance_matrix = sj_distance(only_topics,only_numbers)\n",
    "\n",
    "\n",
    "\n",
    "num_clusters = 3     #Set the number of clusters\n",
    "km = KMeans(n_clusters=num_clusters)\n",
    "\n",
    "%time km.fit(distance_matrix)     #timing the procedure\n",
    "\n",
    "clusters = km.labels_.tolist()\n",
    "c_list.append(clusters)\n",
    "print (clusters)\n",
    "print ()\n",
    "\n",
    "plt.plot(clusters,proper_names, 'o', color = 'blue', markersize = 10)\n",
    "plt.grid()\n",
    "plt.xlabel(\"Cluster\")\n",
    "plt.ylabel(\"Politician\")\n",
    "#plt.savefig(\"KMeansClustering.pdf\")\n",
    "colours = [\"red\",\"green\",\"blue\",\"purple\"]\n",
    "#colours = [(0.2,0.5,0.2),(0.2,0.5,0.5),(0.2,0.5,0.9)]\n",
    "\n",
    "shape = [\"o\", \"^\", \"s\", \"X\"]\n",
    "\n",
    "#plt.savefig(\"Figures\\\\LDA_BBC\\\\politicians_k_means_boostrap_seed_\"+str(seed)+\".pdf\")\n",
    "\n",
    "#try to perform a PCA\n",
    "from sklearn.decomposition import PCA\n",
    "pca = PCA(n_components=2)\n",
    "\n",
    "#coordinates = pca.fit_transform(distance_matrix)\n",
    "coordinates = pca.fit_transform(topic_matrix)\n",
    "#print(coordinates)\n",
    "print(np.sum(np.abs(coordinates),axis = 0))\n",
    "\n",
    "\n",
    "plt.figure()#figsize = (8,6)\n",
    "for i, txt in enumerate(names):\n",
    "    plt.plot(coordinates[i,0], coordinates[i,1],marker = shape[clusters[i]],color = colours[clusters[i]],\n",
    "             markersize = 10,alpha = 0.9,markeredgecolor = \"black\", label = proper_names[i])\n",
    "    plt.text(coordinates[i,0]+0.01, coordinates[i,1]*(1.04),s = proper_names[i],size=8\n",
    "             ,bbox=dict(boxstyle=\"square\",\n",
    "                   ec=(1., 1.0, 1.0),\n",
    "                   fc=(1., 1, 1),alpha = 0.6\n",
    "                                                                                   \n",
    "                   ))\n",
    "#plt.legend(bbox_to_anchor=(1.1, 1.0))\n",
    "plt.grid()\n",
    "plt.xlabel(\"Principal Component 1\")\n",
    "plt.ylabel(\"Principal Component 2\")\n",
    "#plt.savefig(\"Figures\\\\LDA_BBC\\\\politicians_PCA_boostrap_seed_\"+str(seed)+\".pdf\")\n",
    "#np.savetxt(\"Figures\\\\LDA_BBC\\\\c_list.txt\",c_list)"
   ]
  },
  {
   "cell_type": "markdown",
   "metadata": {},
   "source": [
    "### Using the LDA Model for Clustering of unlabelled text data.\n",
    "\n",
    "We will use randomly selected documents from out corspus and is if the model clusters the data as we would expect it to.\n",
    "The way we have constructed our corpus we can expted that the articles will have the following indexes:\n",
    "\n",
    "politics 1:400\n",
    "\n",
    "business 400:800\n",
    "\n",
    "sport 800:1200\n",
    "\n",
    "entertainment 1200:1600\n",
    "\n",
    "tech 1600:2000"
   ]
  },
  {
   "cell_type": "code",
   "execution_count": 15,
   "metadata": {},
   "outputs": [],
   "source": [
    "sample_numbers = [2,3,4,8,10,15,402,403,405,404,406,407,802,803,804,805,810,812,1202,1203,1206,1207,1210]\n",
    "sample_numbers = range(1,1980,60)\n",
    "sample = [documents[i] for i in sample_numbers]\n",
    "only_topics1,only_numbers1,topic_matrix1 = topicz(sample,20)"
   ]
  },
  {
   "cell_type": "code",
   "execution_count": 16,
   "metadata": {},
   "outputs": [
    {
     "data": {
      "text/plain": [
       "33"
      ]
     },
     "execution_count": 16,
     "metadata": {},
     "output_type": "execute_result"
    }
   ],
   "source": [
    "len(sample)"
   ]
  },
  {
   "cell_type": "code",
   "execution_count": 17,
   "metadata": {},
   "outputs": [
    {
     "data": {
      "image/png": "[encoded data removed]",
      "text/plain": [
       "<Figure size 432x288 with 1 Axes>"
      ]
     },
     "metadata": {
      "needs_background": "light"
     },
     "output_type": "display_data"
    }
   ],
   "source": [
    "for i in range(6):\n",
    "    plt.plot(topic_matrix1[i,:],\"o-\", alpha = 0.6, color = (\"red\"))\n",
    "    \n",
    "for i in range(6,12):\n",
    "    plt.plot(topic_matrix1[i,:],\"o-\", alpha = 0.6, color = (\"green\"))    \n",
    "    \n",
    "for i in range(12,18):\n",
    "    plt.plot(topic_matrix1[i,:],\"o-\", alpha = 0.6, color = (\"blue\"))   \n",
    "    \n",
    "for i in range(18,23):\n",
    "    plt.plot(topic_matrix1[i,:],\"o-\", alpha = 0.6, color = (\"purple\"))    \n",
    "        \n",
    "#plt.plot(topic_matrix1[13,:],\"o-\", alpha = 0.5, color = (1,0,0))\n",
    "\n",
    "plt.grid()"
   ]
  },
  {
   "cell_type": "code",
   "execution_count": 15,
   "metadata": {},
   "outputs": [
    {
     "ename": "NameError",
     "evalue": "name 'only_topics1' is not defined",
     "output_type": "error",
     "traceback": [
      "\u001b[0;31m---------------------------------------------------------------------------\u001b[0m",
      "\u001b[0;31mNameError\u001b[0m                                 Traceback (most recent call last)",
      "\u001b[0;32m<ipython-input-15-a99090b6b409>\u001b[0m in \u001b[0;36m<module>\u001b[0;34m\u001b[0m\n\u001b[0;32m----> 1\u001b[0;31m \u001b[0mdistance_matrix1\u001b[0m \u001b[0;34m=\u001b[0m \u001b[0msj_distance\u001b[0m\u001b[0;34m(\u001b[0m\u001b[0monly_topics1\u001b[0m\u001b[0;34m,\u001b[0m\u001b[0monly_numbers1\u001b[0m\u001b[0;34m)\u001b[0m\u001b[0;34m\u001b[0m\u001b[0;34m\u001b[0m\u001b[0m\n\u001b[0m\u001b[1;32m      2\u001b[0m \u001b[0;34m\u001b[0m\u001b[0m\n\u001b[1;32m      3\u001b[0m \u001b[0;32mfrom\u001b[0m \u001b[0msklearn\u001b[0m\u001b[0;34m.\u001b[0m\u001b[0mcluster\u001b[0m \u001b[0;32mimport\u001b[0m \u001b[0mKMeans\u001b[0m\u001b[0;34m\u001b[0m\u001b[0;34m\u001b[0m\u001b[0m\n\u001b[1;32m      4\u001b[0m \u001b[0;32mfrom\u001b[0m \u001b[0mscipy\u001b[0m\u001b[0;34m.\u001b[0m\u001b[0mcluster\u001b[0m\u001b[0;34m.\u001b[0m\u001b[0mhierarchy\u001b[0m \u001b[0;32mimport\u001b[0m \u001b[0mward\u001b[0m\u001b[0;34m,\u001b[0m \u001b[0mdendrogram\u001b[0m\u001b[0;34m,\u001b[0m \u001b[0mlinkage\u001b[0m\u001b[0;34m\u001b[0m\u001b[0;34m\u001b[0m\u001b[0m\n\u001b[1;32m      5\u001b[0m \u001b[0;34m\u001b[0m\u001b[0m\n",
      "\u001b[0;31mNameError\u001b[0m: name 'only_topics1' is not defined"
     ]
    }
   ],
   "source": [
    "distance_matrix1 = sj_distance(only_topics1,only_numbers1)\n",
    "\n",
    "from sklearn.cluster import KMeans\n",
    "from scipy.cluster.hierarchy import ward, dendrogram, linkage\n",
    "\n",
    "linkage_matrix = ward(distance_matrix1) #define the linkage_matrix using ward clustering pre-computed distances\n",
    "#linkage_matrix = linkage(distance_matrix1)\n",
    "#print(linkage_matrix)\n",
    "titles = list(sample_numbers)\n",
    "fig = plt.figure(figsize=(25, 10))\n",
    "dn = dendrogram(linkage_matrix, labels = titles, orientation = \"right\")\n",
    "plt.savefig(\"Figures\\\\LDA_BBC\\\\LDA_BBC_dendrogram_step_60.pdf\") #save figure as ward_clusters\n",
    "\n",
    "\n",
    "\n",
    "\n",
    "plt.figure()\n",
    "\n",
    "num_clusters = 5     #Set the number of clusters\n",
    "km = KMeans(n_clusters=num_clusters,n_init = 1000)\n",
    "\n",
    "%time km.fit(distance_matrix1)     #Fit K-Means using the distance matrix\n",
    "\n",
    "clusters = km.labels_.tolist()\n",
    "print (clusters)\n",
    "\n",
    "plt.plot(clusters,sample_numbers, 'o', color = 'blue', markersize = 10)\n",
    "plt.grid()\n",
    "plt.xlabel(\"Cluster\")\n",
    "plt.ylabel(\"Article Reference Number\")\n",
    "plt.xticks(range(0,4), range(0,4))\n",
    "plt.yticks(range(0,2000,400), range(0,2000,400))\n",
    "#plt.savefig(\"KMeansClustering.pdf\")\n",
    "\n",
    "colours = [\"red\",\"green\",\"blue\",\"purple\",\"black\"]\n",
    "#colours = [(0.2,0.5,0.2),(0.2,0.5,0.5),(0.2,0.5,0.9)]\n",
    "\n",
    "\n",
    "\n",
    "shape = [\"o\", \"^\", \"s\", \"X\",\"P\"]\n",
    "\n",
    "#plt.savefig(\"Figures\\\\LDA_BBC\\\\politicians_k_means_boostrap_seed_\"+str(seed)+\".pdf\")\n",
    "#plt.savefig(\"Figures\\\\Traditional_BBC\\\\politicians_k_means_No_Boostrap.pdf\")\n",
    "\n",
    "#try to perform a PCA\n",
    "from sklearn.decomposition import PCA\n",
    "pca = PCA(n_components=4)\n",
    "\n",
    "coordinates = pca.fit_transform(distance_matrix1)\n",
    "#print(coordinates)\n",
    "#print(np.sum(np.abs(coordinates),axis = 0))\n",
    "\n",
    "\n",
    "plt.figure()#figsize = (8,6)\n",
    "for i, txt in enumerate(sample_numbers):\n",
    "    \n",
    "    plt.plot(coordinates[i,0], coordinates[i,1],marker = shape[clusters[i]],color = colours[clusters[i]],\n",
    "         markersize = 10,alpha = 0.9,markeredgecolor = \"black\", label = sample_numbers[i])\n",
    "    plt.text(coordinates[i,0]+0.03, coordinates[i,1]*(1.05)-0.01,s = sample_numbers[i],size=8\n",
    "             ,bbox=dict(boxstyle=\"square\",\n",
    "               ec=(1., 1.0, 1.0),\n",
    "               fc=(1., 1, 1),alpha = 0))\n",
    "\n",
    "#plt.legend(bbox_to_anchor=(1.1, 1.0))\n",
    "plt.grid()\n",
    "plt.xlabel(\"Principal Component 1\")\n",
    "plt.ylabel(\"Principal Component 2\")\n",
    "#plt.savefig(\"Figures\\\\Traditional_BBC\\\\Politicians_PCA_Boostrap_Seed_\"+str(seed)+\".pdf\")\n",
    "#plt.savefig(\"Figures\\\\Traditional_BBC\\\\Politicians_PCA_No_Boostrap.pdf\")\n",
    "#np.savetxt(\"quality_tou_kinitou_sou.txt\",pplist)"
   ]
  },
  {
   "cell_type": "code",
   "execution_count": 38,
   "metadata": {},
   "outputs": [
    {
     "name": "stderr",
     "output_type": "stream",
     "text": [
      "/Users/marioskassapis/anaconda3/lib/python3.7/site-packages/scipy/cluster/hierarchy.py:482: ClusterWarning: scipy.cluster: The symmetric non-negative hollow observation matrix looks suspiciously like an uncondensed distance matrix\n",
      "  return linkage(y, method='ward', metric='euclidean')\n"
     ]
    },
    {
     "name": "stdout",
     "output_type": "stream",
     "text": [
      "CPU times: user 1.78 s, sys: 6.17 ms, total: 1.79 s\n",
      "Wall time: 1.8 s\n",
      "[1, 1, 1, 1, 1, 1, 1, 2, 2, 2, 2, 2, 2, 1, 3, 3, 3, 3, 3, 3, 4, 4, 4, 4, 2, 4, 4, 0, 0, 0, 1, 0, 0]\n"
     ]
    },
    {
     "data": {
      "image/png": "[encoded data removed]",
      "text/plain": [
       "<Figure size 1800x720 with 1 Axes>"
      ]
     },
     "metadata": {
      "needs_background": "light"
     },
     "output_type": "display_data"
    },
    {
     "data": {
      "image/png": "[encoded data removed]",
      "text/plain": [
       "<Figure size 432x288 with 1 Axes>"
      ]
     },
     "metadata": {
      "needs_background": "light"
     },
     "output_type": "display_data"
    },
    {
     "data": {
      "image/png": "[encoded data removed]",
      "text/plain": [
       "<Figure size 432x288 with 1 Axes>"
      ]
     },
     "metadata": {
      "needs_background": "light"
     },
     "output_type": "display_data"
    }
   ],
   "source": [
    "sample_numbers = [2,3,4,8,10,15,402,403,405,404,406,407,802,803,804,805,810,812,1202,1203,1206,1207,1210]\n",
    "sample_numbers = range(1,1980,60)\n",
    "sample = [documents[i] for i in sample_numbers]\n",
    "only_topics1,only_numbers1,topic_matrix1 = topicz(sample,20)\n",
    "\n",
    "run = 88\n",
    "\n",
    "distance_matrix1 = sj_distance(only_topics1,only_numbers1)\n",
    "\n",
    "from sklearn.cluster import KMeans\n",
    "from scipy.cluster.hierarchy import ward, dendrogram, linkage\n",
    "\n",
    "linkage_matrix = ward(distance_matrix1) #define the linkage_matrix using ward clustering pre-computed distances\n",
    "#linkage_matrix = linkage(distance_matrix1)\n",
    "#print(linkage_matrix)\n",
    "titles = list(sample_numbers)\n",
    "fig = plt.figure(figsize=(25, 10))\n",
    "dn = dendrogram(linkage_matrix, labels = titles, orientation = \"right\")\n",
    "#plt.savefig(\"Figures\\\\LDA_BBC\\\\LDA_BBC_dendrogram_step_60.pdf\") #save figure as ward_clusters\n",
    "plt.savefig(\"Figures//LDA_BBC//BBC_dendrogram_comparison_eleos\"+\".pdf\")\n",
    "\n",
    "\n",
    "\n",
    "plt.figure()\n",
    "\n",
    "num_clusters = 5    #Set the number of clusters\n",
    "km = KMeans(n_clusters=num_clusters,n_init = 1000,max_iter= 600)\n",
    "\n",
    "\n",
    "\n",
    "%time km.fit(distance_matrix1)     #Fit K-Means using the distance matrix\n",
    "\n",
    "clusters = km.labels_.tolist()\n",
    "print(clusters)\n",
    "\n",
    "plt.plot(clusters,sample_numbers, 'o', color = 'blue', markersize = 10,alpha = 0.6)\n",
    "plt.grid()\n",
    "plt.xlabel(\"Cluster\")\n",
    "plt.ylabel(\"Article Reference Number\")\n",
    "plt.xticks(range(0,5), range(0,5))\n",
    "plt.yticks(range(0,2000,400), range(0,2000,400))\n",
    "#plt.savefig(\"KMeansClustering.pdf\")\n",
    "colours = [\"red\",\"green\",\"blue\",\"purple\",\"black\"]\n",
    "#colours = [(0.2,0.5,0.2),(0.2,0.5,0.5),(0.2,0.5,0.9)]\n",
    "\n",
    "\n",
    "shape = [\"o\", \"^\", \"s\", \"X\",\"P\"]\n",
    "\n",
    "#plt.savefig(\"Figures\\\\LDA_BBC\\\\politicians_k_means_boostrap_seed_\"+str(seed)+\".pdf\")\n",
    "plt.savefig(\"Figures//LDA_BBC//5_BBC_k_means_No_Boostrap_\" + str(run) + \".pdf\")\n",
    "\n",
    "#try to perform a PCA\n",
    "from sklearn.decomposition import PCA\n",
    "pca = PCA(n_components=4, random_state = 8)\n",
    "\n",
    "coordinates = pca.fit_transform(distance_matrix1)\n",
    "#print(coordinates)\n",
    "#print(np.sum(np.abs(coordinates),axis = 0))\n",
    "\n",
    "\n",
    "plt.figure()#figsize = (8,6)\n",
    "for i, txt in enumerate(sample_numbers):\n",
    "    \n",
    "    plt.plot(coordinates[i,0], coordinates[i,1],marker = shape[clusters[i]],color = colours[clusters[i]],\n",
    "         markersize = 8,alpha = 0.9,markeredgecolor = \"black\", label = sample_numbers[i])\n",
    "    plt.text(coordinates[i,0]+0.03, coordinates[i,1]*(1.05)-0.01,s = sample_numbers[i],size=8\n",
    "             ,bbox=dict(boxstyle=\"square\",\n",
    "               ec=(1., 1.0, 1.0),\n",
    "               fc=(1., 1, 1),alpha = 0))\n",
    "\n",
    "#plt.legend(bbox_to_anchor=(1.1, 1.0))\n",
    "plt.grid()\n",
    "plt.xlabel(\"Principal Component 1\")\n",
    "plt.ylabel(\"Principal Component 2\")\n",
    "#plt.savefig(\"Figures\\\\Traditional_BBC\\\\Politicians_PCA_Boostrap_Seed_\"+str(seed)+\".pdf\")\n",
    "plt.savefig(\"Figures//LDA_BBC//5_BBC_PCA_No_Boostrap_\" + str(run) + \".pdf\")\n",
    "#np.savetxt(\"quality_tou_kinitou_sou.txt\",pplist)"
   ]
  },
  {
   "cell_type": "code",
   "execution_count": 30,
   "metadata": {},
   "outputs": [
    {
     "name": "stdout",
     "output_type": "stream",
     "text": [
      "[0, 0, 0, 0, 0, 0, 0, 1, 1, 1, 1, 1, 1, 0, 3, 3, 3, 3, 3, 3, 4, 4, 4, 4, 1, 4, 4, 2, 1, 2, 0, 2, 2]\n"
     ]
    }
   ],
   "source": [
    "print(clusters)"
   ]
  },
  {
   "cell_type": "code",
   "execution_count": 31,
   "metadata": {},
   "outputs": [
    {
     "name": "stdout",
     "output_type": "stream",
     "text": [
      "0.7373737373737373\n",
      "[1.0, 0.5, 0.9, 0.65, 0.631578947368421]\n",
      "0.7363157894736843\n"
     ]
    }
   ],
   "source": [
    "list1 =[j for j in [0,4,3,2,1] for i in range(0,20)]\n",
    "\n",
    "ones = np.asarray(list1[:-1])==np.asarray(clusters)\n",
    "score = sum(ones*1)/len(ones)\n",
    "print(score)\n",
    "\n",
    "step = 20\n",
    "cut_ones = [ones[i:i+step] for i in range(0,100,step)]\n",
    "cut_ones\n",
    "\n",
    "scores = [sum(o)/len(o) for o in cut_ones]\n",
    "print(scores)\n",
    "print(np.mean(scores))"
   ]
  },
  {
   "cell_type": "code",
   "execution_count": null,
   "metadata": {},
   "outputs": [],
   "source": []
  },
  {
   "cell_type": "markdown",
   "metadata": {},
   "source": [
    "[1.0, 0.5, 0.85, 0.65, 0.6842105263157895]\n",
    "\n",
    "0.7368421052631579\n",
    "\n",
    "Figures start here:\n",
    "\n",
    "[1.0, 0.5, 0.9, 0.65, 0.631578947368421]\n",
    "\n",
    "0.7363157894736843"
   ]
  },
  {
   "cell_type": "code",
   "execution_count": 56,
   "metadata": {},
   "outputs": [
    {
     "name": "stdout",
     "output_type": "stream",
     "text": [
      "Wall time: 3.99 s\n",
      "[0, 0, 0, 0, 0, 0, 0, 0, 0, 0, 0, 0, 0, 0, 0, 0, 0, 0, 0, 0, 2, 2, 2, 2, 2, 2, 2, 1, 2, 1, 2, 2, 2, 2, 2, 2, 2, 0, 2, 1, 1, 1, 1, 1, 1, 1, 1, 1, 1, 1, 1, 1, 1, 1, 1, 1, 1, 1, 1, 1, 3, 1, 3, 3, 1, 3, 1, 3, 3, 3, 3, 3, 3, 3, 3, 3, 1, 3, 3, 3, 1, 2, 1, 1, 1, 1, 0, 1, 2, 1, 1, 1, 1, 2, 2, 1, 1, 2, 1]\n"
     ]
    },
    {
     "data": {
      "image/png": "[encoded data removed]",
      "text/plain": [
       "<Figure size 432x288 with 1 Axes>"
      ]
     },
     "metadata": {
      "needs_background": "light"
     },
     "output_type": "display_data"
    },
    {
     "data": {
      "image/png": "[encoded data removed]",
      "text/plain": [
       "<Figure size 432x288 with 1 Axes>"
      ]
     },
     "metadata": {
      "needs_background": "light"
     },
     "output_type": "display_data"
    }
   ],
   "source": [
    "run = 6\n",
    "sample_numbers = range(run,1980,20)\n",
    "sample = [documents[i] for i in sample_numbers]\n",
    "only_topics1,only_numbers1,topic_matrix1 = topicz(sample,20)\n",
    "\n",
    "\n",
    "\n",
    "distance_matrix1 = sj_distance(only_topics1,only_numbers1)\n",
    "\n",
    "from sklearn.cluster import KMeans\n",
    "\n",
    "plt.figure()\n",
    "\n",
    "num_clusters = 4    #Set the number of clusters\n",
    "km = KMeans(n_clusters=num_clusters,n_init = 1000,max_iter= 600)\n",
    "\n",
    "\n",
    "\n",
    "%time km.fit(distance_matrix1)     #Fit K-Means using the distance matrix\n",
    "\n",
    "clusters = km.labels_.tolist()\n",
    "print(clusters)\n",
    "\n",
    "plt.plot(clusters,sample_numbers, 'o', color = 'blue', markersize = 10,alpha = 0.6)\n",
    "plt.grid()\n",
    "plt.xlabel(\"Cluster\")\n",
    "plt.ylabel(\"Article Reference Number\")\n",
    "plt.xticks(range(0,num_clusters), range(0,num_clusters))\n",
    "plt.yticks(range(0,2000,400), range(0,2000,400))\n",
    "#plt.savefig(\"KMeansClustering.pdf\")\n",
    "colours = [\"red\",\"green\",\"blue\",\"purple\",\"black\"]\n",
    "#colours = [(0.2,0.5,0.2),(0.2,0.5,0.5),(0.2,0.5,0.9)]\n",
    "\n",
    "\n",
    "shape = [\"o\", \"^\", \"s\", \"X\",\"P\"]\n",
    "\n",
    "#plt.savefig(\"Figures\\\\LDA_BBC\\\\politicians_k_means_boostrap_seed_\"+str(seed)+\".pdf\")\n",
    "plt.savefig(\"Figures\\\\LDA_BBC\\\\4_BBC_k_means_No_Boostrap_\" + str(run) + \".pdf\")\n",
    "\n",
    "#try to perform a PCA\n",
    "from sklearn.decomposition import PCA\n",
    "pca = PCA(n_components=4, random_state = 8)\n",
    "\n",
    "coordinates = pca.fit_transform(distance_matrix1)\n",
    "#print(coordinates)\n",
    "#print(np.sum(np.abs(coordinates),axis = 0))\n",
    "\n",
    "\n",
    "plt.figure()#figsize = (8,6)\n",
    "for i, txt in enumerate(sample_numbers):\n",
    "    \n",
    "    plt.plot(coordinates[i,0], coordinates[i,1],marker = shape[clusters[i]],color = colours[clusters[i]],\n",
    "         markersize = 8,alpha = 0.9,markeredgecolor = \"black\", label = sample_numbers[i])\n",
    "    plt.text(coordinates[i,0]+0.03, coordinates[i,1]*(1.05)-0.01,s = sample_numbers[i],size=8\n",
    "             ,bbox=dict(boxstyle=\"square\",\n",
    "               ec=(1., 1.0, 1.0),\n",
    "               fc=(1., 1, 1),alpha = 0))\n",
    "\n",
    "#plt.legend(bbox_to_anchor=(1.1, 1.0))\n",
    "plt.grid()\n",
    "plt.xlabel(\"Principal Component 1\")\n",
    "plt.ylabel(\"Principal Component 2\")\n",
    "#plt.savefig(\"Figures\\\\Traditional_BBC\\\\Politicians_PCA_Boostrap_Seed_\"+str(seed)+\".pdf\")\n",
    "plt.savefig(\"Figures\\\\LDA_BBC\\\\4_BBC_PCA_No_Boostrap_\" + str(run) + \".pdf\")\n",
    "#np.savetxt(\"quality_tou_kinitou_sou.txt\",pplist)"
   ]
  },
  {
   "cell_type": "code",
   "execution_count": 58,
   "metadata": {},
   "outputs": [
    {
     "name": "stdout",
     "output_type": "stream",
     "text": [
      "[0, 0, 0, 0, 0, 0, 0, 0, 0, 0, 0, 0, 0, 0, 0, 0, 0, 0, 0, 0, 2, 2, 2, 2, 2, 2, 2, 1, 2, 1, 2, 2, 2, 2, 2, 2, 2, 0, 2, 1, 1, 1, 1, 1, 1, 1, 1, 1, 1, 1, 1, 1, 1, 1, 1, 1, 1, 1, 1, 1, 3, 1, 3, 3, 1, 3, 1, 3, 3, 3, 3, 3, 3, 3, 3, 3, 1, 3, 3, 3, 1, 2, 1, 1, 1, 1, 0, 1, 2, 1, 1, 1, 1, 2, 2, 1, 1, 2, 1]\n"
     ]
    }
   ],
   "source": [
    "print(clusters)"
   ]
  },
  {
   "cell_type": "code",
   "execution_count": 59,
   "metadata": {},
   "outputs": [
    {
     "name": "stdout",
     "output_type": "stream",
     "text": [
      "0.8585858585858586\n",
      "[1.0, 0.8, 1.0, 0.8, 0.6842105263157895]\n",
      "0.8568421052631578\n"
     ]
    }
   ],
   "source": [
    "list1 =[j for j in [0,2,1,3,1] for i in range(0,20)]\n",
    "\n",
    "ones = np.asarray(list1[:-1])==np.asarray(clusters)\n",
    "score = sum(ones*1)/len(ones)\n",
    "print(score)\n",
    "\n",
    "step = 20\n",
    "cut_ones = [ones[i:i+step] for i in range(0,100,step)]\n",
    "cut_ones\n",
    "\n",
    "scores = [sum(o)/len(o) for o in cut_ones]\n",
    "print(scores)\n",
    "print(np.mean(scores))"
   ]
  },
  {
   "cell_type": "code",
   "execution_count": 60,
   "metadata": {},
   "outputs": [],
   "source": [
    "sclist = [0.8487,0.77796,0.88059,0.86776,0.86801,0.860526]"
   ]
  },
  {
   "cell_type": "markdown",
   "metadata": {},
   "source": [
    "[1.0, 0.8, 0.9, 0.7, 0.7894736842105263]\n",
    "\n",
    "0.8378947368421054\n",
    "\n",
    "score: 0.8487\n",
    "\n",
    "run 1: \n",
    "\n",
    "[1.0, 0.8, 0.9, 0.7, 0.7894736842105263]\n",
    "\n",
    "score: 0.8487\n",
    "\n",
    "run 2:\n",
    "\n",
    "[0.95, 0.6, 0.95, 0.85, 0.47368421052631576]\n",
    "\n",
    "score: 0.77796\n",
    "\n",
    "run 3:\n",
    "\n",
    "[0.95, 0.75, 0.95, 0.9, 0.8947368421052632]\n",
    "\n",
    "score: 0.88059\n",
    "\n",
    "run 4:\n",
    "\n",
    "[1.0, 0.7, 1.0, 0.85, 0.8421052631578947]\n",
    "\n",
    "score: 0.86776\n",
    "\n",
    "run 5:\n",
    "\n",
    "[0.95, 0.95, 0.85, 0.75, 0.8947368421052632]\n",
    "\n",
    "score: 0.86801\n",
    "\n",
    "run 6:\n",
    "\n",
    "[1.0, 0.8, 1.0, 0.8, 0.6842105263157895]\n",
    "\n",
    "score: 0.860526"
   ]
  },
  {
   "cell_type": "code",
   "execution_count": null,
   "metadata": {},
   "outputs": [],
   "source": []
  },
  {
   "cell_type": "code",
   "execution_count": 105,
   "metadata": {},
   "outputs": [
    {
     "name": "stdout",
     "output_type": "stream",
     "text": [
      "Wall time: 7.51 s\n",
      "[1, 1, 1, 1, 1, 1, 1, 1, 1, 1, 1, 1, 0, 1, 1, 1, 1, 0, 1, 1, 1, 1, 1, 1, 1, 1, 1, 1, 1, 1, 0, 1, 1, 1, 1, 1, 0, 1, 1, 0, 0, 0, 0, 0, 0, 0, 1, 0, 0, 0, 0, 0, 0, 0, 0, 0, 0, 0, 0, 0, 0, 0, 0, 0, 0, 0, 0, 0, 0, 0, 0, 0, 0, 0, 0, 0, 0, 0, 0, 0, 3, 3, 3, 3, 3, 3, 3, 3, 3, 3, 3, 2, 0, 3, 3, 3, 3, 3, 3, 3, 3, 3, 3, 3, 3, 3, 3, 3, 3, 3, 3, 3, 3, 3, 3, 3, 3, 3, 0, 3, 2, 2, 2, 2, 2, 2, 0, 2, 2, 2, 2, 2, 2, 2, 2, 2, 0, 2, 2, 2, 2, 2, 2, 0, 2, 2, 2, 3, 2, 0, 2, 2, 0, 0, 2, 0, 0, 2, 2, 0, 0, 0, 0, 0, 0, 0, 0, 0, 0, 1, 0, 0, 0, 0, 0, 0, 0, 1, 0, 3, 3, 0, 0, 0, 0, 0, 0, 3, 0, 0, 0, 0, 3, 0, 0, 0, 2, 0, 0, 0]\n"
     ]
    },
    {
     "data": {
      "image/png": "[encoded data removed]",
      "text/plain": [
       "<Figure size 432x288 with 1 Axes>"
      ]
     },
     "metadata": {
      "needs_background": "light"
     },
     "output_type": "display_data"
    },
    {
     "data": {
      "image/png": "[encoded data removed]",
      "text/plain": [
       "<Figure size 432x288 with 1 Axes>"
      ]
     },
     "metadata": {
      "needs_background": "light"
     },
     "output_type": "display_data"
    }
   ],
   "source": [
    "run = 6\n",
    "\n",
    "rd.seed(run)\n",
    "indices = [range(i,i+400) for i in range(0,1600,400)]\n",
    "indices.append(range(1600,1986))\n",
    "\n",
    "sample = [rd.sample(index,k=40) for index in indices]\n",
    "ss = [x for y in sample for x in y]\n",
    "sample = [documents[i] for i in ss]\n",
    "\n",
    "\n",
    "only_topics1,only_numbers1,topic_matrix1 = topicz(sample,20)\n",
    "\n",
    "\n",
    "\n",
    "distance_matrix1 = sj_distance(only_topics1,only_numbers1)\n",
    "\n",
    "from sklearn.cluster import KMeans\n",
    "\n",
    "plt.figure()\n",
    "\n",
    "num_clusters = 4    #Set the number of clusters\n",
    "km = KMeans(n_clusters=num_clusters,n_init = 1000,max_iter= 600)\n",
    "\n",
    "\n",
    "\n",
    "%time km.fit(distance_matrix1)     #Fit K-Means using the distance matrix\n",
    "\n",
    "clusters = km.labels_.tolist()\n",
    "print(clusters)\n",
    "\n",
    "plt.plot(clusters,ss, 'o', color = 'blue', markersize = 10,alpha = 0.6)\n",
    "plt.grid()\n",
    "plt.xlabel(\"Cluster\")\n",
    "plt.ylabel(\"Article Reference Number\")\n",
    "plt.xticks(range(0,num_clusters), range(0,num_clusters))\n",
    "plt.yticks(range(0,2000,400), range(0,2000,400))\n",
    "#plt.savefig(\"KMeansClustering.pdf\")\n",
    "colours = [\"red\",\"green\",\"blue\",\"purple\",\"black\"]\n",
    "#colours = [(0.2,0.5,0.2),(0.2,0.5,0.5),(0.2,0.5,0.9)]\n",
    "\n",
    "\n",
    "shape = [\"o\", \"^\", \"s\", \"X\",\"P\"]\n",
    "\n",
    "#plt.savefig(\"Figures\\\\LDA_BBC\\\\politicians_k_means_boostrap_seed_\"+str(seed)+\".pdf\")\n",
    "plt.savefig(\"Figures\\\\LDA_BBC\\\\4_BBC_k_means_No_Boostrap_\" + str(run) + \".pdf\")\n",
    "\n",
    "#try to perform a PCA\n",
    "from sklearn.decomposition import PCA\n",
    "pca = PCA(n_components=4, random_state = 8)\n",
    "\n",
    "coordinates = pca.fit_transform(distance_matrix1)\n",
    "#print(coordinates)\n",
    "#print(np.sum(np.abs(coordinates),axis = 0))\n",
    "\n",
    "\n",
    "plt.figure()#figsize = (8,6)\n",
    "for i, txt in enumerate(ss):\n",
    "    \n",
    "    plt.plot(coordinates[i,0], coordinates[i,1],marker = shape[clusters[i]],color = colours[clusters[i]],\n",
    "         markersize = 8,alpha = 0.9,markeredgecolor = \"black\", label = ss[i])\n",
    "    plt.text(coordinates[i,0]+0.03, coordinates[i,1]*(1.05)-0.01,s = ss[i],size=8\n",
    "             ,bbox=dict(boxstyle=\"square\",\n",
    "               ec=(1., 1.0, 1.0),\n",
    "               fc=(1., 1, 1),alpha = 0))\n",
    "\n",
    "#plt.legend(bbox_to_anchor=(1.1, 1.0))\n",
    "plt.grid()\n",
    "plt.xlabel(\"Principal Component 1\")\n",
    "plt.ylabel(\"Principal Component 2\")\n",
    "#plt.savefig(\"Figures\\\\Traditional_BBC\\\\Politicians_PCA_Boostrap_Seed_\"+str(seed)+\".pdf\")\n",
    "plt.savefig(\"Figures\\\\LDA_BBC\\\\4_BBC_PCA_No_Boostrap_\" + str(run) + \".pdf\")\n",
    "#np.savetxt(\"quality_tou_kinitou_sou.txt\",pplist)"
   ]
  },
  {
   "cell_type": "code",
   "execution_count": 19,
   "metadata": {},
   "outputs": [],
   "source": [
    "#get the topic distribution for each politician\n",
    "def topicz_fast(text,no_topics):\n",
    "    topic_distribution =[]\n",
    "    for i in text:\n",
    "        new_doc = i\n",
    "        new_vec = dictionary.doc2bow(new_doc.lower().split())\n",
    "        #new_vec = dictionary.doc2bow(new_doc)\n",
    "        topic_distribution.append(lda[new_vec])\n",
    "\n",
    "    topics = [[[x for x in y] for y in z] for z in topic_distribution]\n",
    "    only_numbers = [[float(word[1]) for word in topic] for topic in topics]\n",
    "    only_topics = [[word[0] for word in topic] for topic in topics]\n",
    "\n",
    "\n",
    "    return only_topics,only_numbers\n",
    "\n",
    "\n",
    "\n",
    "#only_topics,only_numbers,topic_matrix = topicz(summary,20)\n"
   ]
  },
  {
   "cell_type": "code",
   "execution_count": 22,
   "metadata": {},
   "outputs": [
    {
     "name": "stdout",
     "output_type": "stream",
     "text": [
      "0\n",
      "CPU times: user 461 ms, sys: 9.12 ms, total: 470 ms\n",
      "Wall time: 269 ms\n",
      "CPU times: user 7.03 s, sys: 22 ms, total: 7.06 s\n",
      "Wall time: 3.55 s\n"
     ]
    }
   ],
   "source": [
    "c_data = []\n",
    "for run in range(0,1):\n",
    "    print(run)\n",
    "    rd.seed(run)\n",
    "    indices = [range(i,i+400) for i in range(0,1600,400)]\n",
    "    indices.append(range(1600,1986))\n",
    "\n",
    "    sample = [rd.sample(index,k=40) for index in indices]\n",
    "    ss = [x for y in sample for x in y]\n",
    "    sample = [documents[i] for i in ss]\n",
    "\n",
    "\n",
    "    %time only_topics1,only_numbers1= topicz_fast(sample,20)\n",
    "    distance_matrix1 = sj_distance(only_topics1,only_numbers1)\n",
    "\n",
    "\n",
    "    num_clusters = 4    #Set the number of clusters\n",
    "    km = KMeans(n_clusters=num_clusters,n_init = 1000,max_iter= 600)\n",
    "\n",
    "\n",
    "\n",
    "    %time km.fit(distance_matrix1)     #Fit K-Means using the distance matrix\n",
    "\n",
    "    clusters = km.labels_.tolist()\n",
    "    c_data.append(clusters)"
   ]
  },
  {
   "cell_type": "code",
   "execution_count": 23,
   "metadata": {},
   "outputs": [
    {
     "name": "stdout",
     "output_type": "stream",
     "text": [
      "[0, 0, 0, 0, 0, 0, 0, 2, 0, 0, 0, 0, 0, 0, 0, 0, 0, 0, 0, 2, 0, 0, 0, 0, 0, 0, 0, 0, 0, 0, 0, 0, 1, 0, 0, 0, 0, 0, 0, 0, 1, 0, 2, 2, 2, 2, 2, 2, 2, 2, 2, 2, 2, 2, 2, 2, 2, 2, 2, 2, 2, 0, 2, 0, 2, 2, 2, 2, 2, 2, 2, 2, 2, 1, 2, 2, 2, 1, 2, 2, 3, 3, 3, 3, 3, 3, 3, 3, 3, 3, 3, 3, 3, 1, 3, 3, 3, 3, 3, 3, 3, 3, 3, 3, 1, 3, 3, 3, 3, 3, 3, 3, 3, 3, 3, 3, 3, 3, 3, 3, 1, 1, 1, 1, 1, 1, 1, 2, 1, 1, 1, 2, 1, 1, 1, 1, 1, 1, 1, 2, 1, 1, 1, 1, 1, 1, 0, 1, 1, 1, 1, 1, 1, 1, 1, 1, 1, 1, 1, 1, 2, 1, 1, 1, 1, 1, 2, 2, 1, 2, 3, 2, 2, 1, 1, 1, 1, 1, 1, 1, 1, 1, 1, 1, 1, 1, 1, 1, 1, 1, 1, 1, 2, 2, 1, 1, 1, 1, 1, 2]\n"
     ]
    }
   ],
   "source": [
    "clusters = c_data[0]\n",
    "print(clusters)"
   ]
  },
  {
   "cell_type": "code",
   "execution_count": 24,
   "metadata": {},
   "outputs": [
    {
     "name": "stdout",
     "output_type": "stream",
     "text": [
      "0.335\n",
      "[0.0, 0.85, 0.05, 0.025, 0.75]\n",
      "0.335\n"
     ]
    }
   ],
   "source": [
    "list1 =[j for j in [3,2,1,0,1] for i in range(0,40)]\n",
    "\n",
    "ones = np.asarray(list1)==np.asarray(clusters)\n",
    "score = sum(ones*1)/len(ones)\n",
    "print(score)\n",
    "\n",
    "step = 40\n",
    "cut_ones = [ones[i:i+step] for i in range(0,200,step)]\n",
    "cut_ones\n",
    "\n",
    "scores = [sum(o)/len(o) for o in cut_ones]\n",
    "print(scores)\n",
    "#scoradia.append(scores)\n",
    "print(np.mean(scores))"
   ]
  },
  {
   "cell_type": "code",
   "execution_count": 166,
   "metadata": {},
   "outputs": [],
   "source": [
    "#np.savetxt(\"gamo_ton_kassapi.txt\",scoradia)"
   ]
  },
  {
   "cell_type": "code",
   "execution_count": 165,
   "metadata": {},
   "outputs": [
    {
     "name": "stdout",
     "output_type": "stream",
     "text": [
      "0.85125 0.036529097990506146\n"
     ]
    }
   ],
   "source": [
    "final_scores = [0.809375,0.81875,0.90000,0.884375,0.91875,0.81250,0.828125,0.86250,0.84375,0.834375]\n",
    "m_score = np.mean(final_scores)\n",
    "std_score = np.std(final_scores)\n",
    "print(m_score,std_score)"
   ]
  },
  {
   "cell_type": "code",
   "execution_count": 162,
   "metadata": {},
   "outputs": [],
   "source": [
    "#scoradia = [[0.925, 0.9, 0.975, 0.65, 0.725], [0.95, 0.775, 0.95, 0.675, 0.8], [0.925, 0.925, 1.0, 0.775, 0.875], [1.0, 0.8, 0.925, 0.775, 0.875], [0.95, 0.875, 0.975, 0.875, 0.875], [0.975, 0.6, 0.975, 0.8, 0.775], [0.925, 0.75, 0.975, 0.75, 0.8], [0.975, 0.775, 0.975, 0.825, 0.775], [0.975, 0.775, 1.0, 0.775, 0.7]]"
   ]
  },
  {
   "cell_type": "code",
   "execution_count": 167,
   "metadata": {},
   "outputs": [
    {
     "name": "stdout",
     "output_type": "stream",
     "text": [
      "0\n",
      "Wall time: 399 ms\n",
      "Wall time: 7.97 s\n",
      "1\n",
      "Wall time: 350 ms\n",
      "Wall time: 7.52 s\n",
      "2\n",
      "Wall time: 336 ms\n",
      "Wall time: 7.34 s\n",
      "3\n",
      "Wall time: 502 ms\n",
      "Wall time: 7.3 s\n",
      "4\n",
      "Wall time: 387 ms\n",
      "Wall time: 7.12 s\n",
      "5\n",
      "Wall time: 507 ms\n",
      "Wall time: 7.51 s\n",
      "6\n",
      "Wall time: 368 ms\n",
      "Wall time: 6.74 s\n",
      "7\n",
      "Wall time: 376 ms\n",
      "Wall time: 7.7 s\n",
      "8\n",
      "Wall time: 337 ms\n",
      "Wall time: 7.27 s\n",
      "9\n",
      "Wall time: 389 ms\n",
      "Wall time: 6.79 s\n"
     ]
    }
   ],
   "source": [
    "data5 = []\n",
    "for run in range(0,10):\n",
    "    print(run)\n",
    "    rd.seed(run)\n",
    "    indices = [range(i,i+400) for i in range(0,1600,400)]\n",
    "    indices.append(range(1600,1986))\n",
    "\n",
    "    sample = [rd.sample(index,k=40) for index in indices]\n",
    "    ss = [x for y in sample for x in y]\n",
    "    sample = [documents[i] for i in ss]\n",
    "\n",
    "\n",
    "    %time only_topics1,only_numbers1= topicz_fast(sample,20)\n",
    "    %time distance_matrix1 = sj_distance(only_topics1,only_numbers1)\n",
    "\n",
    "\n",
    "    num_clusters = 5    #Set the number of clusters\n",
    "    km = KMeans(n_clusters=num_clusters,n_init = 1000,max_iter= 600)\n",
    "\n",
    "\n",
    "\n",
    "    %time km.fit(distance_matrix1)     #Fit K-Means using the distance matrix\n",
    "\n",
    "    clusters = km.labels_.tolist()\n",
    "    data5.append(clusters)"
   ]
  },
  {
   "cell_type": "code",
   "execution_count": 175,
   "metadata": {},
   "outputs": [],
   "source": [
    "#trapezi = []"
   ]
  },
  {
   "cell_type": "code",
   "execution_count": 209,
   "metadata": {},
   "outputs": [
    {
     "name": "stdout",
     "output_type": "stream",
     "text": [
      "[1, 1, 1, 1, 1, 1, 1, 1, 1, 1, 1, 1, 1, 1, 1, 1, 1, 1, 1, 1, 1, 1, 1, 1, 1, 1, 1, 1, 1, 1, 1, 1, 1, 1, 1, 1, 1, 1, 1, 1, 4, 4, 4, 4, 4, 4, 4, 4, 4, 4, 4, 4, 0, 0, 2, 0, 4, 1, 4, 4, 0, 4, 0, 4, 4, 4, 4, 0, 4, 0, 0, 4, 4, 0, 4, 4, 1, 4, 4, 4, 0, 0, 0, 0, 0, 4, 0, 3, 3, 0, 3, 3, 3, 0, 3, 3, 3, 3, 0, 3, 3, 3, 3, 3, 0, 3, 3, 3, 3, 3, 0, 0, 3, 3, 0, 0, 3, 0, 3, 0, 0, 2, 2, 2, 0, 0, 0, 2, 2, 2, 2, 2, 2, 2, 2, 2, 2, 0, 3, 0, 2, 2, 2, 0, 2, 0, 2, 2, 2, 2, 2, 2, 2, 0, 0, 2, 2, 2, 2, 2, 1, 0, 0, 0, 0, 0, 1, 0, 4, 0, 0, 0, 0, 4, 0, 0, 0, 0, 0, 0, 0, 0, 4, 0, 0, 1, 0, 0, 0, 0, 1, 0, 0, 0, 0, 0, 0, 0, 0, 0]\n"
     ]
    }
   ],
   "source": [
    "clusters = data5[9]\n",
    "print(clusters)"
   ]
  },
  {
   "cell_type": "code",
   "execution_count": 210,
   "metadata": {},
   "outputs": [
    {
     "name": "stdout",
     "output_type": "stream",
     "text": [
      "[1.0, 0.7, 0.575, 0.725, 0.825]\n",
      "0.765\n"
     ]
    }
   ],
   "source": [
    "list1 =[j for j in [1,4,3,2,0] for i in range(0,40)]\n",
    "\n",
    "ones = np.asarray(list1)==np.asarray(clusters)\n",
    "score = sum(ones*1)/len(ones)\n",
    "#print(score)\n",
    "\n",
    "step = 40\n",
    "cut_ones = [ones[i:i+step] for i in range(0,200,step)]\n",
    "cut_ones\n",
    "\n",
    "scores = [sum(o)/len(o) for o in cut_ones]\n",
    "print(scores)\n",
    "trapezi.append(scores)\n",
    "print(np.mean(scores))\n",
    "scoration.append(np.mean(scores))"
   ]
  },
  {
   "cell_type": "code",
   "execution_count": 214,
   "metadata": {},
   "outputs": [
    {
     "name": "stdout",
     "output_type": "stream",
     "text": [
      "[0.79, 0.8, 0.8150000000000001, 0.8549999999999999, 0.8099999999999999, 0.8150000000000001, 0.805, 0.825, 0.8400000000000001, 0.765]\n"
     ]
    }
   ],
   "source": [
    "#List of appended means\n",
    "print(scoration)     "
   ]
  },
  {
   "cell_type": "code",
   "execution_count": 215,
   "metadata": {},
   "outputs": [
    {
     "name": "stdout",
     "output_type": "stream",
     "text": [
      "[[0.925, 0.7, 0.975, 0.65, 0.7], [0.95, 0.775, 0.875, 0.675, 0.725], [0.925, 0.65, 0.975, 0.75, 0.775], [1.0, 0.775, 0.875, 0.775, 0.85], [0.925, 0.625, 0.975, 0.85, 0.675], [0.95, 0.6, 0.95, 0.8, 0.775], [0.925, 0.75, 0.8, 0.75, 0.8], [0.925, 0.775, 0.85, 0.825, 0.75], [0.975, 0.775, 0.975, 0.775, 0.7], [1.0, 0.7, 0.575, 0.725, 0.825]]\n"
     ]
    }
   ],
   "source": [
    "#List of appended scores\n",
    "print(trapezi)"
   ]
  },
  {
   "cell_type": "code",
   "execution_count": 216,
   "metadata": {},
   "outputs": [
    {
     "data": {
      "text/plain": [
       "0.8119999999999999"
      ]
     },
     "execution_count": 216,
     "metadata": {},
     "output_type": "execute_result"
    }
   ],
   "source": [
    "np.mean(scoration)"
   ]
  },
  {
   "cell_type": "code",
   "execution_count": 218,
   "metadata": {},
   "outputs": [],
   "source": [
    "cluster_score5 =  [[0.925, 0.7, 0.975, 0.65, 0.7],\n",
    " [0.95, 0.775, 0.875, 0.675, 0.725],\n",
    " [0.925, 0.65, 0.975, 0.75, 0.775],\n",
    " [1.0, 0.775, 0.875, 0.775, 0.85],\n",
    " [0.925, 0.625, 0.975, 0.85, 0.675],\n",
    " [0.95, 0.6, 0.95, 0.8, 0.775],\n",
    " [0.925, 0.75, 0.8, 0.75, 0.8],\n",
    " [0.925, 0.775, 0.85, 0.825, 0.75],\n",
    " [0.975, 0.775, 0.975, 0.775, 0.7],\n",
    " [1.0, 0.7, 0.575, 0.725, 0.825]]"
   ]
  },
  {
   "cell_type": "markdown",
   "metadata": {},
   "source": [
    "We now have 4 different lists, 2 for the run with 4 clusters, 2 for the run with 5 clusters:\n",
    "\n",
    "- cluster_score4\n",
    "- cluster_meanscore4\n",
    "- cluster_score5\n",
    "- cluster_meanscore5"
   ]
  },
  {
   "cell_type": "code",
   "execution_count": 12,
   "metadata": {},
   "outputs": [
    {
     "name": "stdout",
     "output_type": "stream",
     "text": [
      "0\n",
      "CPU times: user 399 ms, sys: 4.69 ms, total: 404 ms\n",
      "Wall time: 226 ms\n",
      "CPU times: user 1min 9s, sys: 616 ms, total: 1min 10s\n",
      "Wall time: 1min 10s\n",
      "CPU times: user 5.97 s, sys: 14.7 ms, total: 5.99 s\n",
      "Wall time: 3 s\n",
      "1\n",
      "CPU times: user 386 ms, sys: 2.79 ms, total: 389 ms\n",
      "Wall time: 191 ms\n",
      "CPU times: user 1min 9s, sys: 729 ms, total: 1min 10s\n",
      "Wall time: 1min 9s\n",
      "CPU times: user 7.5 s, sys: 26 ms, total: 7.52 s\n",
      "Wall time: 3.8 s\n",
      "2\n"
     ]
    },
    {
     "ename": "IndexError",
     "evalue": "index 30990 is out of bounds for axis 1 with size 30990",
     "output_type": "error",
     "traceback": [
      "\u001b[0;31m---------------------------------------------------------------------------\u001b[0m",
      "\u001b[0;31mIndexError\u001b[0m                                Traceback (most recent call last)",
      "\u001b[0;32m<timed exec>\u001b[0m in \u001b[0;36m<module>\u001b[0;34m\u001b[0m\n",
      "\u001b[0;32m<ipython-input-10-72eb32ee7e62>\u001b[0m in \u001b[0;36mtopicz_fast\u001b[0;34m(text, no_topics)\u001b[0m\n\u001b[1;32m      6\u001b[0m         \u001b[0mnew_vec\u001b[0m \u001b[0;34m=\u001b[0m \u001b[0mdictionary\u001b[0m\u001b[0;34m.\u001b[0m\u001b[0mdoc2bow\u001b[0m\u001b[0;34m(\u001b[0m\u001b[0mnew_doc\u001b[0m\u001b[0;34m.\u001b[0m\u001b[0mlower\u001b[0m\u001b[0;34m(\u001b[0m\u001b[0;34m)\u001b[0m\u001b[0;34m.\u001b[0m\u001b[0msplit\u001b[0m\u001b[0;34m(\u001b[0m\u001b[0;34m)\u001b[0m\u001b[0;34m)\u001b[0m\u001b[0;34m\u001b[0m\u001b[0;34m\u001b[0m\u001b[0m\n\u001b[1;32m      7\u001b[0m         \u001b[0;31m#new_vec = dictionary.doc2bow(new_doc)\u001b[0m\u001b[0;34m\u001b[0m\u001b[0;34m\u001b[0m\u001b[0;34m\u001b[0m\u001b[0m\n\u001b[0;32m----> 8\u001b[0;31m         \u001b[0mtopic_distribution\u001b[0m\u001b[0;34m.\u001b[0m\u001b[0mappend\u001b[0m\u001b[0;34m(\u001b[0m\u001b[0mlda\u001b[0m\u001b[0;34m[\u001b[0m\u001b[0mnew_vec\u001b[0m\u001b[0;34m]\u001b[0m\u001b[0;34m)\u001b[0m\u001b[0;34m\u001b[0m\u001b[0;34m\u001b[0m\u001b[0m\n\u001b[0m\u001b[1;32m      9\u001b[0m \u001b[0;34m\u001b[0m\u001b[0m\n\u001b[1;32m     10\u001b[0m     \u001b[0mtopics\u001b[0m \u001b[0;34m=\u001b[0m \u001b[0;34m[\u001b[0m\u001b[0;34m[\u001b[0m\u001b[0;34m[\u001b[0m\u001b[0mx\u001b[0m \u001b[0;32mfor\u001b[0m \u001b[0mx\u001b[0m \u001b[0;32min\u001b[0m \u001b[0my\u001b[0m\u001b[0;34m]\u001b[0m \u001b[0;32mfor\u001b[0m \u001b[0my\u001b[0m \u001b[0;32min\u001b[0m \u001b[0mz\u001b[0m\u001b[0;34m]\u001b[0m \u001b[0;32mfor\u001b[0m \u001b[0mz\u001b[0m \u001b[0;32min\u001b[0m \u001b[0mtopic_distribution\u001b[0m\u001b[0;34m]\u001b[0m\u001b[0;34m\u001b[0m\u001b[0;34m\u001b[0m\u001b[0m\n",
      "\u001b[0;32m~/anaconda3/lib/python3.7/site-packages/gensim/models/ldamodel.py\u001b[0m in \u001b[0;36m__getitem__\u001b[0;34m(self, bow, eps)\u001b[0m\n\u001b[1;32m   1522\u001b[0m \u001b[0;34m\u001b[0m\u001b[0m\n\u001b[1;32m   1523\u001b[0m         \"\"\"\n\u001b[0;32m-> 1524\u001b[0;31m         \u001b[0;32mreturn\u001b[0m \u001b[0mself\u001b[0m\u001b[0;34m.\u001b[0m\u001b[0mget_document_topics\u001b[0m\u001b[0;34m(\u001b[0m\u001b[0mbow\u001b[0m\u001b[0;34m,\u001b[0m \u001b[0meps\u001b[0m\u001b[0;34m,\u001b[0m \u001b[0mself\u001b[0m\u001b[0;34m.\u001b[0m\u001b[0mminimum_phi_value\u001b[0m\u001b[0;34m,\u001b[0m \u001b[0mself\u001b[0m\u001b[0;34m.\u001b[0m\u001b[0mper_word_topics\u001b[0m\u001b[0;34m)\u001b[0m\u001b[0;34m\u001b[0m\u001b[0;34m\u001b[0m\u001b[0m\n\u001b[0m\u001b[1;32m   1525\u001b[0m \u001b[0;34m\u001b[0m\u001b[0m\n\u001b[1;32m   1526\u001b[0m     \u001b[0;32mdef\u001b[0m \u001b[0msave\u001b[0m\u001b[0;34m(\u001b[0m\u001b[0mself\u001b[0m\u001b[0;34m,\u001b[0m \u001b[0mfname\u001b[0m\u001b[0;34m,\u001b[0m \u001b[0mignore\u001b[0m\u001b[0;34m=\u001b[0m\u001b[0;34m(\u001b[0m\u001b[0;34m'state'\u001b[0m\u001b[0;34m,\u001b[0m \u001b[0;34m'dispatcher'\u001b[0m\u001b[0;34m)\u001b[0m\u001b[0;34m,\u001b[0m \u001b[0mseparately\u001b[0m\u001b[0;34m=\u001b[0m\u001b[0;32mNone\u001b[0m\u001b[0;34m,\u001b[0m \u001b[0;34m*\u001b[0m\u001b[0margs\u001b[0m\u001b[0;34m,\u001b[0m \u001b[0;34m**\u001b[0m\u001b[0mkwargs\u001b[0m\u001b[0;34m)\u001b[0m\u001b[0;34m:\u001b[0m\u001b[0;34m\u001b[0m\u001b[0;34m\u001b[0m\u001b[0m\n",
      "\u001b[0;32m~/anaconda3/lib/python3.7/site-packages/gensim/models/ldamodel.py\u001b[0m in \u001b[0;36mget_document_topics\u001b[0;34m(self, bow, minimum_probability, minimum_phi_value, per_word_topics)\u001b[0m\n\u001b[1;32m   1327\u001b[0m             \u001b[0;32mreturn\u001b[0m \u001b[0mself\u001b[0m\u001b[0;34m.\u001b[0m\u001b[0m_apply\u001b[0m\u001b[0;34m(\u001b[0m\u001b[0mcorpus\u001b[0m\u001b[0;34m,\u001b[0m \u001b[0;34m**\u001b[0m\u001b[0mkwargs\u001b[0m\u001b[0;34m)\u001b[0m\u001b[0;34m\u001b[0m\u001b[0;34m\u001b[0m\u001b[0m\n\u001b[1;32m   1328\u001b[0m \u001b[0;34m\u001b[0m\u001b[0m\n\u001b[0;32m-> 1329\u001b[0;31m         \u001b[0mgamma\u001b[0m\u001b[0;34m,\u001b[0m \u001b[0mphis\u001b[0m \u001b[0;34m=\u001b[0m \u001b[0mself\u001b[0m\u001b[0;34m.\u001b[0m\u001b[0minference\u001b[0m\u001b[0;34m(\u001b[0m\u001b[0;34m[\u001b[0m\u001b[0mbow\u001b[0m\u001b[0;34m]\u001b[0m\u001b[0;34m,\u001b[0m \u001b[0mcollect_sstats\u001b[0m\u001b[0;34m=\u001b[0m\u001b[0mper_word_topics\u001b[0m\u001b[0;34m)\u001b[0m\u001b[0;34m\u001b[0m\u001b[0;34m\u001b[0m\u001b[0m\n\u001b[0m\u001b[1;32m   1330\u001b[0m         \u001b[0mtopic_dist\u001b[0m \u001b[0;34m=\u001b[0m \u001b[0mgamma\u001b[0m\u001b[0;34m[\u001b[0m\u001b[0;36m0\u001b[0m\u001b[0;34m]\u001b[0m \u001b[0;34m/\u001b[0m \u001b[0msum\u001b[0m\u001b[0;34m(\u001b[0m\u001b[0mgamma\u001b[0m\u001b[0;34m[\u001b[0m\u001b[0;36m0\u001b[0m\u001b[0;34m]\u001b[0m\u001b[0;34m)\u001b[0m  \u001b[0;31m# normalize distribution\u001b[0m\u001b[0;34m\u001b[0m\u001b[0;34m\u001b[0m\u001b[0m\n\u001b[1;32m   1331\u001b[0m \u001b[0;34m\u001b[0m\u001b[0m\n",
      "\u001b[0;32m~/anaconda3/lib/python3.7/site-packages/gensim/models/ldamodel.py\u001b[0m in \u001b[0;36minference\u001b[0;34m(self, chunk, collect_sstats)\u001b[0m\n\u001b[1;32m    678\u001b[0m             \u001b[0mElogthetad\u001b[0m \u001b[0;34m=\u001b[0m \u001b[0mElogtheta\u001b[0m\u001b[0;34m[\u001b[0m\u001b[0md\u001b[0m\u001b[0;34m,\u001b[0m \u001b[0;34m:\u001b[0m\u001b[0;34m]\u001b[0m\u001b[0;34m\u001b[0m\u001b[0;34m\u001b[0m\u001b[0m\n\u001b[1;32m    679\u001b[0m             \u001b[0mexpElogthetad\u001b[0m \u001b[0;34m=\u001b[0m \u001b[0mexpElogtheta\u001b[0m\u001b[0;34m[\u001b[0m\u001b[0md\u001b[0m\u001b[0;34m,\u001b[0m \u001b[0;34m:\u001b[0m\u001b[0;34m]\u001b[0m\u001b[0;34m\u001b[0m\u001b[0;34m\u001b[0m\u001b[0m\n\u001b[0;32m--> 680\u001b[0;31m             \u001b[0mexpElogbetad\u001b[0m \u001b[0;34m=\u001b[0m \u001b[0mself\u001b[0m\u001b[0;34m.\u001b[0m\u001b[0mexpElogbeta\u001b[0m\u001b[0;34m[\u001b[0m\u001b[0;34m:\u001b[0m\u001b[0;34m,\u001b[0m \u001b[0mids\u001b[0m\u001b[0;34m]\u001b[0m\u001b[0;34m\u001b[0m\u001b[0;34m\u001b[0m\u001b[0m\n\u001b[0m\u001b[1;32m    681\u001b[0m \u001b[0;34m\u001b[0m\u001b[0m\n\u001b[1;32m    682\u001b[0m             \u001b[0;31m# The optimal phi_{dwk} is proportional to expElogthetad_k * expElogbetad_w.\u001b[0m\u001b[0;34m\u001b[0m\u001b[0;34m\u001b[0m\u001b[0;34m\u001b[0m\u001b[0m\n",
      "\u001b[0;31mIndexError\u001b[0m: index 30990 is out of bounds for axis 1 with size 30990"
     ]
    },
    {
     "name": "stdout",
     "output_type": "stream",
     "text": [
      "CPU times: user 1min 9s, sys: 708 ms, total: 1min 9s\n",
      "Wall time: 1min 9s\n",
      "CPU times: user 6.48 s, sys: 21 ms, total: 6.5 s\n",
      "Wall time: 3.32 s\n",
      "3\n",
      "CPU times: user 481 ms, sys: 3.53 ms, total: 485 ms\n",
      "Wall time: 265 ms\n",
      "CPU times: user 1min 10s, sys: 597 ms, total: 1min 11s\n",
      "Wall time: 1min 11s\n",
      "CPU times: user 6.22 s, sys: 34.4 ms, total: 6.26 s\n",
      "Wall time: 3.18 s\n",
      "4\n",
      "CPU times: user 578 ms, sys: 7.41 ms, total: 585 ms\n",
      "Wall time: 303 ms\n",
      "CPU times: user 1min 16s, sys: 731 ms, total: 1min 17s\n",
      "Wall time: 1min 18s\n",
      "CPU times: user 8.12 s, sys: 60.8 ms, total: 8.18 s\n",
      "Wall time: 4.33 s\n",
      "5\n",
      "CPU times: user 489 ms, sys: 3.52 ms, total: 492 ms\n",
      "Wall time: 258 ms\n",
      "CPU times: user 1min 21s, sys: 894 ms, total: 1min 22s\n",
      "Wall time: 1min 25s\n",
      "CPU times: user 8.02 s, sys: 58.3 ms, total: 8.07 s\n",
      "Wall time: 4.2 s\n",
      "6\n",
      "CPU times: user 383 ms, sys: 2.68 ms, total: 386 ms\n",
      "Wall time: 196 ms\n",
      "CPU times: user 1min 12s, sys: 633 ms, total: 1min 12s\n",
      "Wall time: 1min 13s\n",
      "CPU times: user 5.65 s, sys: 15 ms, total: 5.66 s\n",
      "Wall time: 2.84 s\n",
      "7\n",
      "CPU times: user 378 ms, sys: 2.36 ms, total: 380 ms\n",
      "Wall time: 190 ms\n",
      "CPU times: user 1min 8s, sys: 636 ms, total: 1min 8s\n",
      "Wall time: 1min 8s\n",
      "CPU times: user 6.99 s, sys: 29.2 ms, total: 7.02 s\n",
      "Wall time: 3.58 s\n",
      "8\n"
     ]
    },
    {
     "ename": "IndexError",
     "evalue": "index 30990 is out of bounds for axis 1 with size 30990",
     "output_type": "error",
     "traceback": [
      "\u001b[0;31m---------------------------------------------------------------------------\u001b[0m",
      "\u001b[0;31mIndexError\u001b[0m                                Traceback (most recent call last)",
      "\u001b[0;32m<timed exec>\u001b[0m in \u001b[0;36m<module>\u001b[0;34m\u001b[0m\n",
      "\u001b[0;32m<ipython-input-10-72eb32ee7e62>\u001b[0m in \u001b[0;36mtopicz_fast\u001b[0;34m(text, no_topics)\u001b[0m\n\u001b[1;32m      6\u001b[0m         \u001b[0mnew_vec\u001b[0m \u001b[0;34m=\u001b[0m \u001b[0mdictionary\u001b[0m\u001b[0;34m.\u001b[0m\u001b[0mdoc2bow\u001b[0m\u001b[0;34m(\u001b[0m\u001b[0mnew_doc\u001b[0m\u001b[0;34m.\u001b[0m\u001b[0mlower\u001b[0m\u001b[0;34m(\u001b[0m\u001b[0;34m)\u001b[0m\u001b[0;34m.\u001b[0m\u001b[0msplit\u001b[0m\u001b[0;34m(\u001b[0m\u001b[0;34m)\u001b[0m\u001b[0;34m)\u001b[0m\u001b[0;34m\u001b[0m\u001b[0;34m\u001b[0m\u001b[0m\n\u001b[1;32m      7\u001b[0m         \u001b[0;31m#new_vec = dictionary.doc2bow(new_doc)\u001b[0m\u001b[0;34m\u001b[0m\u001b[0;34m\u001b[0m\u001b[0;34m\u001b[0m\u001b[0m\n\u001b[0;32m----> 8\u001b[0;31m         \u001b[0mtopic_distribution\u001b[0m\u001b[0;34m.\u001b[0m\u001b[0mappend\u001b[0m\u001b[0;34m(\u001b[0m\u001b[0mlda\u001b[0m\u001b[0;34m[\u001b[0m\u001b[0mnew_vec\u001b[0m\u001b[0;34m]\u001b[0m\u001b[0;34m)\u001b[0m\u001b[0;34m\u001b[0m\u001b[0;34m\u001b[0m\u001b[0m\n\u001b[0m\u001b[1;32m      9\u001b[0m \u001b[0;34m\u001b[0m\u001b[0m\n\u001b[1;32m     10\u001b[0m     \u001b[0mtopics\u001b[0m \u001b[0;34m=\u001b[0m \u001b[0;34m[\u001b[0m\u001b[0;34m[\u001b[0m\u001b[0;34m[\u001b[0m\u001b[0mx\u001b[0m \u001b[0;32mfor\u001b[0m \u001b[0mx\u001b[0m \u001b[0;32min\u001b[0m \u001b[0my\u001b[0m\u001b[0;34m]\u001b[0m \u001b[0;32mfor\u001b[0m \u001b[0my\u001b[0m \u001b[0;32min\u001b[0m \u001b[0mz\u001b[0m\u001b[0;34m]\u001b[0m \u001b[0;32mfor\u001b[0m \u001b[0mz\u001b[0m \u001b[0;32min\u001b[0m \u001b[0mtopic_distribution\u001b[0m\u001b[0;34m]\u001b[0m\u001b[0;34m\u001b[0m\u001b[0;34m\u001b[0m\u001b[0m\n",
      "\u001b[0;32m~/anaconda3/lib/python3.7/site-packages/gensim/models/ldamodel.py\u001b[0m in \u001b[0;36m__getitem__\u001b[0;34m(self, bow, eps)\u001b[0m\n\u001b[1;32m   1522\u001b[0m \u001b[0;34m\u001b[0m\u001b[0m\n\u001b[1;32m   1523\u001b[0m         \"\"\"\n\u001b[0;32m-> 1524\u001b[0;31m         \u001b[0;32mreturn\u001b[0m \u001b[0mself\u001b[0m\u001b[0;34m.\u001b[0m\u001b[0mget_document_topics\u001b[0m\u001b[0;34m(\u001b[0m\u001b[0mbow\u001b[0m\u001b[0;34m,\u001b[0m \u001b[0meps\u001b[0m\u001b[0;34m,\u001b[0m \u001b[0mself\u001b[0m\u001b[0;34m.\u001b[0m\u001b[0mminimum_phi_value\u001b[0m\u001b[0;34m,\u001b[0m \u001b[0mself\u001b[0m\u001b[0;34m.\u001b[0m\u001b[0mper_word_topics\u001b[0m\u001b[0;34m)\u001b[0m\u001b[0;34m\u001b[0m\u001b[0;34m\u001b[0m\u001b[0m\n\u001b[0m\u001b[1;32m   1525\u001b[0m \u001b[0;34m\u001b[0m\u001b[0m\n\u001b[1;32m   1526\u001b[0m     \u001b[0;32mdef\u001b[0m \u001b[0msave\u001b[0m\u001b[0;34m(\u001b[0m\u001b[0mself\u001b[0m\u001b[0;34m,\u001b[0m \u001b[0mfname\u001b[0m\u001b[0;34m,\u001b[0m \u001b[0mignore\u001b[0m\u001b[0;34m=\u001b[0m\u001b[0;34m(\u001b[0m\u001b[0;34m'state'\u001b[0m\u001b[0;34m,\u001b[0m \u001b[0;34m'dispatcher'\u001b[0m\u001b[0;34m)\u001b[0m\u001b[0;34m,\u001b[0m \u001b[0mseparately\u001b[0m\u001b[0;34m=\u001b[0m\u001b[0;32mNone\u001b[0m\u001b[0;34m,\u001b[0m \u001b[0;34m*\u001b[0m\u001b[0margs\u001b[0m\u001b[0;34m,\u001b[0m \u001b[0;34m**\u001b[0m\u001b[0mkwargs\u001b[0m\u001b[0;34m)\u001b[0m\u001b[0;34m:\u001b[0m\u001b[0;34m\u001b[0m\u001b[0;34m\u001b[0m\u001b[0m\n",
      "\u001b[0;32m~/anaconda3/lib/python3.7/site-packages/gensim/models/ldamodel.py\u001b[0m in \u001b[0;36mget_document_topics\u001b[0;34m(self, bow, minimum_probability, minimum_phi_value, per_word_topics)\u001b[0m\n\u001b[1;32m   1327\u001b[0m             \u001b[0;32mreturn\u001b[0m \u001b[0mself\u001b[0m\u001b[0;34m.\u001b[0m\u001b[0m_apply\u001b[0m\u001b[0;34m(\u001b[0m\u001b[0mcorpus\u001b[0m\u001b[0;34m,\u001b[0m \u001b[0;34m**\u001b[0m\u001b[0mkwargs\u001b[0m\u001b[0;34m)\u001b[0m\u001b[0;34m\u001b[0m\u001b[0;34m\u001b[0m\u001b[0m\n\u001b[1;32m   1328\u001b[0m \u001b[0;34m\u001b[0m\u001b[0m\n\u001b[0;32m-> 1329\u001b[0;31m         \u001b[0mgamma\u001b[0m\u001b[0;34m,\u001b[0m \u001b[0mphis\u001b[0m \u001b[0;34m=\u001b[0m \u001b[0mself\u001b[0m\u001b[0;34m.\u001b[0m\u001b[0minference\u001b[0m\u001b[0;34m(\u001b[0m\u001b[0;34m[\u001b[0m\u001b[0mbow\u001b[0m\u001b[0;34m]\u001b[0m\u001b[0;34m,\u001b[0m \u001b[0mcollect_sstats\u001b[0m\u001b[0;34m=\u001b[0m\u001b[0mper_word_topics\u001b[0m\u001b[0;34m)\u001b[0m\u001b[0;34m\u001b[0m\u001b[0;34m\u001b[0m\u001b[0m\n\u001b[0m\u001b[1;32m   1330\u001b[0m         \u001b[0mtopic_dist\u001b[0m \u001b[0;34m=\u001b[0m \u001b[0mgamma\u001b[0m\u001b[0;34m[\u001b[0m\u001b[0;36m0\u001b[0m\u001b[0;34m]\u001b[0m \u001b[0;34m/\u001b[0m \u001b[0msum\u001b[0m\u001b[0;34m(\u001b[0m\u001b[0mgamma\u001b[0m\u001b[0;34m[\u001b[0m\u001b[0;36m0\u001b[0m\u001b[0;34m]\u001b[0m\u001b[0;34m)\u001b[0m  \u001b[0;31m# normalize distribution\u001b[0m\u001b[0;34m\u001b[0m\u001b[0;34m\u001b[0m\u001b[0m\n\u001b[1;32m   1331\u001b[0m \u001b[0;34m\u001b[0m\u001b[0m\n",
      "\u001b[0;32m~/anaconda3/lib/python3.7/site-packages/gensim/models/ldamodel.py\u001b[0m in \u001b[0;36minference\u001b[0;34m(self, chunk, collect_sstats)\u001b[0m\n\u001b[1;32m    678\u001b[0m             \u001b[0mElogthetad\u001b[0m \u001b[0;34m=\u001b[0m \u001b[0mElogtheta\u001b[0m\u001b[0;34m[\u001b[0m\u001b[0md\u001b[0m\u001b[0;34m,\u001b[0m \u001b[0;34m:\u001b[0m\u001b[0;34m]\u001b[0m\u001b[0;34m\u001b[0m\u001b[0;34m\u001b[0m\u001b[0m\n\u001b[1;32m    679\u001b[0m             \u001b[0mexpElogthetad\u001b[0m \u001b[0;34m=\u001b[0m \u001b[0mexpElogtheta\u001b[0m\u001b[0;34m[\u001b[0m\u001b[0md\u001b[0m\u001b[0;34m,\u001b[0m \u001b[0;34m:\u001b[0m\u001b[0;34m]\u001b[0m\u001b[0;34m\u001b[0m\u001b[0;34m\u001b[0m\u001b[0m\n\u001b[0;32m--> 680\u001b[0;31m             \u001b[0mexpElogbetad\u001b[0m \u001b[0;34m=\u001b[0m \u001b[0mself\u001b[0m\u001b[0;34m.\u001b[0m\u001b[0mexpElogbeta\u001b[0m\u001b[0;34m[\u001b[0m\u001b[0;34m:\u001b[0m\u001b[0;34m,\u001b[0m \u001b[0mids\u001b[0m\u001b[0;34m]\u001b[0m\u001b[0;34m\u001b[0m\u001b[0;34m\u001b[0m\u001b[0m\n\u001b[0m\u001b[1;32m    681\u001b[0m \u001b[0;34m\u001b[0m\u001b[0m\n\u001b[1;32m    682\u001b[0m             \u001b[0;31m# The optimal phi_{dwk} is proportional to expElogthetad_k * expElogbetad_w.\u001b[0m\u001b[0;34m\u001b[0m\u001b[0;34m\u001b[0m\u001b[0;34m\u001b[0m\u001b[0m\n",
      "\u001b[0;31mIndexError\u001b[0m: index 30990 is out of bounds for axis 1 with size 30990"
     ]
    },
    {
     "name": "stdout",
     "output_type": "stream",
     "text": [
      "CPU times: user 1min 11s, sys: 648 ms, total: 1min 12s\n",
      "Wall time: 1min 12s\n",
      "CPU times: user 6.9 s, sys: 21.3 ms, total: 6.92 s\n",
      "Wall time: 3.47 s\n",
      "9\n",
      "CPU times: user 399 ms, sys: 2.74 ms, total: 402 ms\n",
      "Wall time: 202 ms\n",
      "CPU times: user 1min 11s, sys: 667 ms, total: 1min 11s\n",
      "Wall time: 1min 11s\n",
      "CPU times: user 6.36 s, sys: 29.4 ms, total: 6.39 s\n",
      "Wall time: 3.23 s\n"
     ]
    }
   ],
   "source": [
    "data3 = []\n",
    "for run in range(0,10):\n",
    "    print(run)\n",
    "    rd.seed(run)\n",
    "    indices = [range(i,i+400) for i in range(0,1600,400)]\n",
    "    indices.append(range(1600,1986))\n",
    "\n",
    "    sample = [rd.sample(index,k=40) for index in indices]\n",
    "    ss = [x for y in sample for x in y]\n",
    "    sample = [documents[i] for i in ss]\n",
    "\n",
    "\n",
    "    %time only_topics1,only_numbers1= topicz_fast(sample,20)\n",
    "    %time distance_matrix1 = sj_distance(only_topics1,only_numbers1)\n",
    "\n",
    "\n",
    "    num_clusters = 3    #Set the number of clusters\n",
    "    km = KMeans(n_clusters=num_clusters,n_init = 1000,max_iter= 600)\n",
    "\n",
    "\n",
    "\n",
    "    %time km.fit(distance_matrix1)     #Fit K-Means using the distance matrix\n",
    "\n",
    "    clusters = km.labels_.tolist()\n",
    "    data3.append(clusters)"
   ]
  },
  {
   "cell_type": "code",
   "execution_count": 15,
   "metadata": {},
   "outputs": [
    {
     "data": {
      "text/plain": [
       "10"
      ]
     },
     "execution_count": 15,
     "metadata": {},
     "output_type": "execute_result"
    }
   ],
   "source": [
    "len(data3)"
   ]
  },
  {
   "cell_type": "code",
   "execution_count": 19,
   "metadata": {},
   "outputs": [],
   "source": [
    "#cluster_score3 = []"
   ]
  },
  {
   "cell_type": "code",
   "execution_count": 57,
   "metadata": {},
   "outputs": [
    {
     "name": "stdout",
     "output_type": "stream",
     "text": [
      "[0, 0, 0, 2, 0, 0, 0, 0, 0, 0, 0, 0, 0, 0, 0, 0, 0, 0, 0, 0, 0, 0, 0, 0, 0, 0, 0, 0, 0, 0, 0, 0, 0, 0, 0, 0, 0, 0, 0, 0, 2, 2, 2, 2, 2, 2, 2, 2, 2, 2, 2, 2, 2, 2, 1, 2, 2, 1, 2, 2, 2, 2, 2, 2, 2, 2, 2, 2, 2, 2, 2, 2, 2, 2, 1, 2, 2, 2, 2, 2, 2, 2, 2, 2, 2, 1, 2, 2, 2, 2, 2, 2, 2, 2, 2, 2, 2, 2, 2, 2, 2, 2, 2, 2, 2, 1, 2, 2, 2, 2, 2, 2, 2, 2, 2, 2, 2, 2, 2, 2, 2, 1, 1, 1, 1, 1, 1, 1, 1, 1, 1, 1, 1, 1, 1, 1, 1, 1, 1, 1, 1, 1, 1, 1, 1, 1, 1, 1, 1, 1, 1, 1, 1, 1, 2, 1, 1, 1, 1, 1, 1, 1, 1, 1, 1, 2, 1, 1, 1, 2, 1, 1, 1, 1, 1, 2, 1, 1, 1, 1, 1, 1, 1, 2, 1, 1, 2, 1, 1, 1, 1, 1, 1, 1, 2, 1, 1, 1, 1, 1]\n"
     ]
    }
   ],
   "source": [
    "clusters = data3[9]\n",
    "print(clusters)"
   ]
  },
  {
   "cell_type": "code",
   "execution_count": 18,
   "metadata": {},
   "outputs": [
    {
     "ename": "NameError",
     "evalue": "name 'clusters' is not defined",
     "output_type": "error",
     "traceback": [
      "\u001b[0;31m---------------------------------------------------------------------------\u001b[0m",
      "\u001b[0;31mNameError\u001b[0m                                 Traceback (most recent call last)",
      "\u001b[0;32m<ipython-input-18-e846064ccfa9>\u001b[0m in \u001b[0;36m<module>\u001b[0;34m\u001b[0m\n\u001b[1;32m      1\u001b[0m \u001b[0mlist1\u001b[0m \u001b[0;34m=\u001b[0m\u001b[0;34m[\u001b[0m\u001b[0mj\u001b[0m \u001b[0;32mfor\u001b[0m \u001b[0mj\u001b[0m \u001b[0;32min\u001b[0m \u001b[0;34m[\u001b[0m\u001b[0;36m0\u001b[0m\u001b[0;34m,\u001b[0m\u001b[0;36m2\u001b[0m\u001b[0;34m,\u001b[0m\u001b[0;36m2\u001b[0m\u001b[0;34m,\u001b[0m\u001b[0;36m1\u001b[0m\u001b[0;34m,\u001b[0m\u001b[0;36m1\u001b[0m\u001b[0;34m]\u001b[0m \u001b[0;32mfor\u001b[0m \u001b[0mi\u001b[0m \u001b[0;32min\u001b[0m \u001b[0mrange\u001b[0m\u001b[0;34m(\u001b[0m\u001b[0;36m0\u001b[0m\u001b[0;34m,\u001b[0m\u001b[0;36m40\u001b[0m\u001b[0;34m)\u001b[0m\u001b[0;34m]\u001b[0m\u001b[0;34m\u001b[0m\u001b[0;34m\u001b[0m\u001b[0m\n\u001b[1;32m      2\u001b[0m \u001b[0;34m\u001b[0m\u001b[0m\n\u001b[0;32m----> 3\u001b[0;31m \u001b[0mones\u001b[0m \u001b[0;34m=\u001b[0m \u001b[0mnp\u001b[0m\u001b[0;34m.\u001b[0m\u001b[0masarray\u001b[0m\u001b[0;34m(\u001b[0m\u001b[0mlist1\u001b[0m\u001b[0;34m)\u001b[0m\u001b[0;34m==\u001b[0m\u001b[0mnp\u001b[0m\u001b[0;34m.\u001b[0m\u001b[0masarray\u001b[0m\u001b[0;34m(\u001b[0m\u001b[0mclusters\u001b[0m\u001b[0;34m)\u001b[0m\u001b[0;34m\u001b[0m\u001b[0;34m\u001b[0m\u001b[0m\n\u001b[0m\u001b[1;32m      4\u001b[0m \u001b[0mscore\u001b[0m \u001b[0;34m=\u001b[0m \u001b[0msum\u001b[0m\u001b[0;34m(\u001b[0m\u001b[0mones\u001b[0m\u001b[0;34m*\u001b[0m\u001b[0;36m1\u001b[0m\u001b[0;34m)\u001b[0m\u001b[0;34m/\u001b[0m\u001b[0mlen\u001b[0m\u001b[0;34m(\u001b[0m\u001b[0mones\u001b[0m\u001b[0;34m)\u001b[0m\u001b[0;34m\u001b[0m\u001b[0;34m\u001b[0m\u001b[0m\n\u001b[1;32m      5\u001b[0m \u001b[0;31m#print(score)\u001b[0m\u001b[0;34m\u001b[0m\u001b[0;34m\u001b[0m\u001b[0;34m\u001b[0m\u001b[0m\n",
      "\u001b[0;31mNameError\u001b[0m: name 'clusters' is not defined"
     ]
    }
   ],
   "source": [
    "list1 =[j for j in [0,2,2,1,1] for i in range(0,40)]\n",
    "\n",
    "ones = np.asarray(list1)==np.asarray(clusters)\n",
    "score = sum(ones*1)/len(ones)\n",
    "#print(score)\n",
    "\n",
    "step = 40\n",
    "cut_ones = [ones[i:i+step] for i in range(0,200,step)]\n",
    "cut_ones\n",
    "\n",
    "scores = [sum(o)/len(o) for o in cut_ones]\n",
    "print(scores)\n",
    "cluster_score3.append(scores)"
   ]
  },
  {
   "cell_type": "code",
   "execution_count": 61,
   "metadata": {},
   "outputs": [
    {
     "name": "stdout",
     "output_type": "stream",
     "text": [
      "0.9375\n"
     ]
    }
   ],
   "source": [
    "sks = scores[0] + scores[1]*(0.5) + scores[2]*(0.5) + scores[3]*(0.5) + scores[4]*(0.5)\n",
    "ole = sks / 3\n",
    "\n",
    "print(ole)\n"
   ]
  },
  {
   "cell_type": "code",
   "execution_count": 55,
   "metadata": {},
   "outputs": [
    {
     "name": "stdout",
     "output_type": "stream",
     "text": [
      "0.936111111111111\n"
     ]
    }
   ],
   "source": [
    "sks = scores[0] + (scores[1] / 3) + scores[2]/3 + scores[3]/1 + scores[4] / 3\n",
    "ole = sks / 3\n",
    "\n",
    "print(ole)\n"
   ]
  },
  {
   "cell_type": "code",
   "execution_count": 27,
   "metadata": {},
   "outputs": [
    {
     "data": {
      "text/plain": [
       "[[0.925, 0.775, 0.95, 0.9, 0.75],\n",
       " [0.975, 0.975, 0.925, 0.95, 0.675],\n",
       " [0.975, 0.975, 0.925, 0.95, 0.675]]"
      ]
     },
     "execution_count": 27,
     "metadata": {},
     "output_type": "execute_result"
    }
   ],
   "source": [
    "cluster_score3"
   ]
  },
  {
   "cell_type": "code",
   "execution_count": 63,
   "metadata": {},
   "outputs": [],
   "source": [
    "cluster_meanscore3 = [0.87083, 0.9125, 0.9125, 0.9278, 0.911111, 0.9027777777777778, 0.9027777777777778,\n",
    "                     0.936111111111111,0.936111111111111,0.9375]"
   ]
  },
  {
   "cell_type": "code",
   "execution_count": 64,
   "metadata": {},
   "outputs": [
    {
     "data": {
      "text/plain": [
       "10"
      ]
     },
     "execution_count": 64,
     "metadata": {},
     "output_type": "execute_result"
    }
   ],
   "source": [
    "len(cluster_meanscore3)"
   ]
  },
  {
   "cell_type": "code",
   "execution_count": 65,
   "metadata": {},
   "outputs": [
    {
     "data": {
      "text/plain": [
       "12"
      ]
     },
     "execution_count": 65,
     "metadata": {},
     "output_type": "execute_result"
    }
   ],
   "source": [
    "len(cluster_score3)"
   ]
  },
  {
   "cell_type": "code",
   "execution_count": 68,
   "metadata": {},
   "outputs": [
    {
     "data": {
      "text/plain": [
       "[[0.925, 0.775, 0.95, 0.9, 0.75],\n",
       " [0.975, 0.975, 0.925, 0.95, 0.675],\n",
       " [0.975, 0.975, 0.925, 0.95, 0.675],\n",
       " [0.925, 0.825, 1.0, 1.0, 0.75],\n",
       " [1.0, 0.825, 1.0, 0.925, 0.6],\n",
       " [0.925, 0.825, 0.925, 0.975, 0.775],\n",
       " [0.95, 0.775, 0.85, 1.0, 0.65],\n",
       " [0.95, 0.775, 0.85, 1.0, 0.65],\n",
       " [0.975, 0.875, 1.0, 0.925, 0.85],\n",
       " [0.975, 0.875, 1.0, 0.925, 0.85],\n",
       " [0.0, 0.925, 0.95, 0.95, 0.85]]"
      ]
     },
     "execution_count": 68,
     "metadata": {},
     "output_type": "execute_result"
    }
   ],
   "source": [
    "cluster_score3"
   ]
  },
  {
   "cell_type": "code",
   "execution_count": 67,
   "metadata": {},
   "outputs": [
    {
     "data": {
      "text/plain": [
       "[0.975, 0.925, 0.95, 0.95, 0.85]"
      ]
     },
     "execution_count": 67,
     "metadata": {},
     "output_type": "execute_result"
    }
   ],
   "source": [
    "cluster_score3.pop(-1)"
   ]
  },
  {
   "cell_type": "code",
   "execution_count": 69,
   "metadata": {},
   "outputs": [
    {
     "data": {
      "text/plain": [
       "[0.975, 0.875, 1.0, 0.925, 0.85]"
      ]
     },
     "execution_count": 69,
     "metadata": {},
     "output_type": "execute_result"
    }
   ],
   "source": [
    "cluster_score3.pop(-2)"
   ]
  },
  {
   "cell_type": "code",
   "execution_count": 70,
   "metadata": {},
   "outputs": [
    {
     "data": {
      "text/plain": [
       "10"
      ]
     },
     "execution_count": 70,
     "metadata": {},
     "output_type": "execute_result"
    }
   ],
   "source": [
    "len(cluster_score3)"
   ]
  },
  {
   "cell_type": "code",
   "execution_count": 17,
   "metadata": {},
   "outputs": [
    {
     "name": "stdout",
     "output_type": "stream",
     "text": [
      "0\n"
     ]
    },
    {
     "ename": "NameError",
     "evalue": "name 'topicz_fast' is not defined",
     "output_type": "error",
     "traceback": [
      "\u001b[0;31m---------------------------------------------------------------------------\u001b[0m",
      "\u001b[0;31mNameError\u001b[0m                                 Traceback (most recent call last)",
      "\u001b[0;32m<timed exec>\u001b[0m in \u001b[0;36m<module>\u001b[0;34m\u001b[0m\n",
      "\u001b[0;31mNameError\u001b[0m: name 'topicz_fast' is not defined"
     ]
    },
    {
     "ename": "NameError",
     "evalue": "name 'only_topics1' is not defined",
     "output_type": "error",
     "traceback": [
      "\u001b[0;31m---------------------------------------------------------------------------\u001b[0m",
      "\u001b[0;31mNameError\u001b[0m                                 Traceback (most recent call last)",
      "\u001b[0;32m<timed exec>\u001b[0m in \u001b[0;36m<module>\u001b[0;34m\u001b[0m\n",
      "\u001b[0;31mNameError\u001b[0m: name 'only_topics1' is not defined"
     ]
    },
    {
     "ename": "NameError",
     "evalue": "name 'distance_matrix1' is not defined",
     "output_type": "error",
     "traceback": [
      "\u001b[0;31m---------------------------------------------------------------------------\u001b[0m",
      "\u001b[0;31mNameError\u001b[0m                                 Traceback (most recent call last)",
      "\u001b[0;32m<timed eval>\u001b[0m in \u001b[0;36m<module>\u001b[0;34m\u001b[0m\n",
      "\u001b[0;31mNameError\u001b[0m: name 'distance_matrix1' is not defined"
     ]
    },
    {
     "ename": "AttributeError",
     "evalue": "'KMeans' object has no attribute 'labels_'",
     "output_type": "error",
     "traceback": [
      "\u001b[0;31m---------------------------------------------------------------------------\u001b[0m",
      "\u001b[0;31mAttributeError\u001b[0m                            Traceback (most recent call last)",
      "\u001b[0;32m<ipython-input-17-edb16ecea7ce>\u001b[0m in \u001b[0;36m<module>\u001b[0;34m\u001b[0m\n\u001b[1;32m     24\u001b[0m     \u001b[0mget_ipython\u001b[0m\u001b[0;34m(\u001b[0m\u001b[0;34m)\u001b[0m\u001b[0;34m.\u001b[0m\u001b[0mrun_line_magic\u001b[0m\u001b[0;34m(\u001b[0m\u001b[0;34m'time'\u001b[0m\u001b[0;34m,\u001b[0m \u001b[0;34m'km.fit(distance_matrix1)     #Fit K-Means using the distance matrix'\u001b[0m\u001b[0;34m)\u001b[0m\u001b[0;34m\u001b[0m\u001b[0;34m\u001b[0m\u001b[0m\n\u001b[1;32m     25\u001b[0m \u001b[0;34m\u001b[0m\u001b[0m\n\u001b[0;32m---> 26\u001b[0;31m     \u001b[0mclusters\u001b[0m \u001b[0;34m=\u001b[0m \u001b[0mkm\u001b[0m\u001b[0;34m.\u001b[0m\u001b[0mlabels_\u001b[0m\u001b[0;34m.\u001b[0m\u001b[0mtolist\u001b[0m\u001b[0;34m(\u001b[0m\u001b[0;34m)\u001b[0m\u001b[0;34m\u001b[0m\u001b[0;34m\u001b[0m\u001b[0m\n\u001b[0m\u001b[1;32m     27\u001b[0m     \u001b[0mdata1\u001b[0m\u001b[0;34m.\u001b[0m\u001b[0mappend\u001b[0m\u001b[0;34m(\u001b[0m\u001b[0mclusters\u001b[0m\u001b[0;34m)\u001b[0m\u001b[0;34m\u001b[0m\u001b[0;34m\u001b[0m\u001b[0m\n\u001b[1;32m     28\u001b[0m \u001b[0;34m\u001b[0m\u001b[0m\n",
      "\u001b[0;31mAttributeError\u001b[0m: 'KMeans' object has no attribute 'labels_'"
     ]
    }
   ],
   "source": [
    "data1 = []\n",
    "#wcss= []\n",
    "\n",
    "for run in range(0,1):\n",
    "    print(run)\n",
    "    rd.seed(run)\n",
    "    indices = [range(i,i+400) for i in range(0,1600,400)]\n",
    "    indices.append(range(1600,1986))\n",
    "\n",
    "    sample = [rd.sample(index,k=40) for index in indices]\n",
    "    ss = [x for y in sample for x in y]\n",
    "    sample = [documents[i] for i in ss]\n",
    "\n",
    "\n",
    "    %time only_topics1,only_numbers1= topicz_fast(sample,20)\n",
    "    %time distance_matrix1 = sj_distance(only_topics1,only_numbers1)\n",
    "\n",
    "\n",
    "    num_clusters = 8    #Set the number of clusters\n",
    "    km = KMeans(n_clusters=num_clusters,n_init = 1000,max_iter= 600)\n",
    "\n",
    "\n",
    "\n",
    "    %time km.fit(distance_matrix1)     #Fit K-Means using the distance matrix\n",
    "\n",
    "    clusters = km.labels_.tolist()\n",
    "    data1.append(clusters)\n",
    "    \n",
    "    #wcss.append(km.inertia_)"
   ]
  },
  {
   "cell_type": "code",
   "execution_count": null,
   "metadata": {},
   "outputs": [],
   "source": []
  },
  {
   "cell_type": "code",
   "execution_count": 16,
   "metadata": {},
   "outputs": [
    {
     "ename": "NameError",
     "evalue": "name 'wcss' is not defined",
     "output_type": "error",
     "traceback": [
      "\u001b[0;31m---------------------------------------------------------------------------\u001b[0m",
      "\u001b[0;31mNameError\u001b[0m                                 Traceback (most recent call last)",
      "\u001b[0;32m<ipython-input-16-afbac70be582>\u001b[0m in \u001b[0;36m<module>\u001b[0;34m\u001b[0m\n\u001b[0;32m----> 1\u001b[0;31m \u001b[0mwcss\u001b[0m\u001b[0;34m\u001b[0m\u001b[0;34m\u001b[0m\u001b[0m\n\u001b[0m",
      "\u001b[0;31mNameError\u001b[0m: name 'wcss' is not defined"
     ]
    }
   ],
   "source": [
    "wcss"
   ]
  },
  {
   "cell_type": "code",
   "execution_count": 26,
   "metadata": {},
   "outputs": [],
   "source": [
    "wcss = [618.8060737182202,\n",
    "        444.2363684554531,\n",
    " 368.130316959842,\n",
    " 315.7834380083229,\n",
    " 284.25670553208676,\n",
    " 267.1833245019628,\n",
    " 254.51622260380609,\n",
    " ]"
   ]
  },
  {
   "cell_type": "code",
   "execution_count": 28,
   "metadata": {},
   "outputs": [
    {
     "data": {
      "text/plain": [
       "Text(0, 0.5, 'Within Cluster Spread Score')"
      ]
     },
     "execution_count": 28,
     "metadata": {},
     "output_type": "execute_result"
    },
    {
     "data": {
      "image/png": "[encoded data removed]",
      "text/plain": [
       "<Figure size 432x288 with 1 Axes>"
      ]
     },
     "metadata": {
      "needs_background": "light"
     },
     "output_type": "display_data"
    }
   ],
   "source": [
    "space = [1,2,3,4,5,6,7]\n",
    "plt.plot(space, wcss, 'o--', color = 'blue')\n",
    "plt.grid()\n",
    "plt.xlabel(\"No. of clusters\")\n",
    "plt.ylabel(\"Within Cluster Spread Score\")\n",
    "\n"
   ]
  },
  {
   "cell_type": "code",
   "execution_count": null,
   "metadata": {},
   "outputs": [],
   "source": [
    "secondDerivative[i] = x[i+1] + x[i-1] - 2 * x[i]\n"
   ]
  },
  {
   "cell_type": "code",
   "execution_count": 50,
   "metadata": {},
   "outputs": [
    {
     "name": "stdout",
     "output_type": "stream",
     "text": [
      "CPU times: user 380 ms, sys: 3.84 ms, total: 384 ms\n",
      "Wall time: 222 ms\n",
      "CPU times: user 1min 10s, sys: 586 ms, total: 1min 10s\n",
      "Wall time: 1min 10s\n"
     ]
    },
    {
     "name": "stderr",
     "output_type": "stream",
     "text": [
      "/Users/marioskassapis/anaconda3/lib/python3.7/site-packages/ipykernel_launcher.py:20: ClusterWarning: scipy.cluster: The symmetric non-negative hollow observation matrix looks suspiciously like an uncondensed distance matrix\n"
     ]
    },
    {
     "data": {
      "image/png": "[encoded data removed]",
      "text/plain": [
       "<Figure size 1800x720 with 1 Axes>"
      ]
     },
     "metadata": {
      "needs_background": "light"
     },
     "output_type": "display_data"
    }
   ],
   "source": [
    "run = 0\n",
    "rd.seed(run)\n",
    "indices = [range(i,i+400) for i in range(0,1600,400)]\n",
    "indices.append(range(1600,1986))\n",
    "\n",
    "sample = [rd.sample(index,k=40) for index in indices]\n",
    "ss = [x for y in sample for x in y]\n",
    "sample = [documents[i] for i in ss]\n",
    "sample_numbers = ss\n",
    "summary = sample\n",
    "\n",
    "\n",
    "%time only_topics1,only_numbers1= topicz_fast(sample,20)\n",
    "%time distance_matrix1 = sj_distance(only_topics1,only_numbers1)\n",
    "\n",
    "\n",
    "from scipy.cluster.hierarchy import ward, dendrogram, linkage\n",
    "\n",
    "#linkage_matrix = ward(dist) #define the linkage_matrix using ward clustering pre-computed distances\n",
    "linkage_matrix = linkage(distance_matrix1)\n",
    "#print(linkage_matrix)\n",
    "titles = sample_numbers\n",
    "\n",
    "#uncomment below to save figure\n",
    "\n",
    "fig = plt.figure(figsize=(25, 10))\n",
    "dn = dendrogram(linkage_matrix, labels = titles, orientation = \"right\")"
   ]
  },
  {
   "cell_type": "markdown",
   "metadata": {},
   "source": [
    "### Will now use kmeans repeatedly to get good data to the wcss and produce the final curve from which to extract the elbow plot"
   ]
  },
  {
   "cell_type": "code",
   "execution_count": 85,
   "metadata": {},
   "outputs": [
    {
     "name": "stdout",
     "output_type": "stream",
     "text": [
      "0\n",
      "Wall time: 293 ms\n",
      "Wall time: 1min 11s\n",
      "Wall time: 7.42 s\n",
      "1\n",
      "Wall time: 303 ms\n",
      "Wall time: 1min 12s\n",
      "Wall time: 7.2 s\n",
      "2\n"
     ]
    },
    {
     "ename": "IndexError",
     "evalue": "index 30995 is out of bounds for axis 1 with size 30990",
     "output_type": "error",
     "traceback": [
      "\u001b[1;31m---------------------------------------------------------------------------\u001b[0m",
      "\u001b[1;31mIndexError\u001b[0m                                Traceback (most recent call last)",
      "\u001b[1;32m<timed exec>\u001b[0m in \u001b[0;36m<module>\u001b[1;34m()\u001b[0m\n",
      "\u001b[1;32m<ipython-input-11-72eb32ee7e62>\u001b[0m in \u001b[0;36mtopicz_fast\u001b[1;34m(text, no_topics)\u001b[0m\n\u001b[0;32m      6\u001b[0m         \u001b[0mnew_vec\u001b[0m \u001b[1;33m=\u001b[0m \u001b[0mdictionary\u001b[0m\u001b[1;33m.\u001b[0m\u001b[0mdoc2bow\u001b[0m\u001b[1;33m(\u001b[0m\u001b[0mnew_doc\u001b[0m\u001b[1;33m.\u001b[0m\u001b[0mlower\u001b[0m\u001b[1;33m(\u001b[0m\u001b[1;33m)\u001b[0m\u001b[1;33m.\u001b[0m\u001b[0msplit\u001b[0m\u001b[1;33m(\u001b[0m\u001b[1;33m)\u001b[0m\u001b[1;33m)\u001b[0m\u001b[1;33m\u001b[0m\u001b[0m\n\u001b[0;32m      7\u001b[0m         \u001b[1;31m#new_vec = dictionary.doc2bow(new_doc)\u001b[0m\u001b[1;33m\u001b[0m\u001b[1;33m\u001b[0m\u001b[0m\n\u001b[1;32m----> 8\u001b[1;33m         \u001b[0mtopic_distribution\u001b[0m\u001b[1;33m.\u001b[0m\u001b[0mappend\u001b[0m\u001b[1;33m(\u001b[0m\u001b[0mlda\u001b[0m\u001b[1;33m[\u001b[0m\u001b[0mnew_vec\u001b[0m\u001b[1;33m]\u001b[0m\u001b[1;33m)\u001b[0m\u001b[1;33m\u001b[0m\u001b[0m\n\u001b[0m\u001b[0;32m      9\u001b[0m \u001b[1;33m\u001b[0m\u001b[0m\n\u001b[0;32m     10\u001b[0m     \u001b[0mtopics\u001b[0m \u001b[1;33m=\u001b[0m \u001b[1;33m[\u001b[0m\u001b[1;33m[\u001b[0m\u001b[1;33m[\u001b[0m\u001b[0mx\u001b[0m \u001b[1;32mfor\u001b[0m \u001b[0mx\u001b[0m \u001b[1;32min\u001b[0m \u001b[0my\u001b[0m\u001b[1;33m]\u001b[0m \u001b[1;32mfor\u001b[0m \u001b[0my\u001b[0m \u001b[1;32min\u001b[0m \u001b[0mz\u001b[0m\u001b[1;33m]\u001b[0m \u001b[1;32mfor\u001b[0m \u001b[0mz\u001b[0m \u001b[1;32min\u001b[0m \u001b[0mtopic_distribution\u001b[0m\u001b[1;33m]\u001b[0m\u001b[1;33m\u001b[0m\u001b[0m\n",
      "\u001b[1;32m~\\Anaconda3\\lib\\site-packages\\gensim\\models\\ldamodel.py\u001b[0m in \u001b[0;36m__getitem__\u001b[1;34m(self, bow, eps)\u001b[0m\n\u001b[0;32m   1522\u001b[0m \u001b[1;33m\u001b[0m\u001b[0m\n\u001b[0;32m   1523\u001b[0m         \"\"\"\n\u001b[1;32m-> 1524\u001b[1;33m         \u001b[1;32mreturn\u001b[0m \u001b[0mself\u001b[0m\u001b[1;33m.\u001b[0m\u001b[0mget_document_topics\u001b[0m\u001b[1;33m(\u001b[0m\u001b[0mbow\u001b[0m\u001b[1;33m,\u001b[0m \u001b[0meps\u001b[0m\u001b[1;33m,\u001b[0m \u001b[0mself\u001b[0m\u001b[1;33m.\u001b[0m\u001b[0mminimum_phi_value\u001b[0m\u001b[1;33m,\u001b[0m \u001b[0mself\u001b[0m\u001b[1;33m.\u001b[0m\u001b[0mper_word_topics\u001b[0m\u001b[1;33m)\u001b[0m\u001b[1;33m\u001b[0m\u001b[0m\n\u001b[0m\u001b[0;32m   1525\u001b[0m \u001b[1;33m\u001b[0m\u001b[0m\n\u001b[0;32m   1526\u001b[0m     \u001b[1;32mdef\u001b[0m \u001b[0msave\u001b[0m\u001b[1;33m(\u001b[0m\u001b[0mself\u001b[0m\u001b[1;33m,\u001b[0m \u001b[0mfname\u001b[0m\u001b[1;33m,\u001b[0m \u001b[0mignore\u001b[0m\u001b[1;33m=\u001b[0m\u001b[1;33m(\u001b[0m\u001b[1;34m'state'\u001b[0m\u001b[1;33m,\u001b[0m \u001b[1;34m'dispatcher'\u001b[0m\u001b[1;33m)\u001b[0m\u001b[1;33m,\u001b[0m \u001b[0mseparately\u001b[0m\u001b[1;33m=\u001b[0m\u001b[1;32mNone\u001b[0m\u001b[1;33m,\u001b[0m \u001b[1;33m*\u001b[0m\u001b[0margs\u001b[0m\u001b[1;33m,\u001b[0m \u001b[1;33m**\u001b[0m\u001b[0mkwargs\u001b[0m\u001b[1;33m)\u001b[0m\u001b[1;33m:\u001b[0m\u001b[1;33m\u001b[0m\u001b[0m\n",
      "\u001b[1;32m~\\Anaconda3\\lib\\site-packages\\gensim\\models\\ldamodel.py\u001b[0m in \u001b[0;36mget_document_topics\u001b[1;34m(self, bow, minimum_probability, minimum_phi_value, per_word_topics)\u001b[0m\n\u001b[0;32m   1327\u001b[0m             \u001b[1;32mreturn\u001b[0m \u001b[0mself\u001b[0m\u001b[1;33m.\u001b[0m\u001b[0m_apply\u001b[0m\u001b[1;33m(\u001b[0m\u001b[0mcorpus\u001b[0m\u001b[1;33m,\u001b[0m \u001b[1;33m**\u001b[0m\u001b[0mkwargs\u001b[0m\u001b[1;33m)\u001b[0m\u001b[1;33m\u001b[0m\u001b[0m\n\u001b[0;32m   1328\u001b[0m \u001b[1;33m\u001b[0m\u001b[0m\n\u001b[1;32m-> 1329\u001b[1;33m         \u001b[0mgamma\u001b[0m\u001b[1;33m,\u001b[0m \u001b[0mphis\u001b[0m \u001b[1;33m=\u001b[0m \u001b[0mself\u001b[0m\u001b[1;33m.\u001b[0m\u001b[0minference\u001b[0m\u001b[1;33m(\u001b[0m\u001b[1;33m[\u001b[0m\u001b[0mbow\u001b[0m\u001b[1;33m]\u001b[0m\u001b[1;33m,\u001b[0m \u001b[0mcollect_sstats\u001b[0m\u001b[1;33m=\u001b[0m\u001b[0mper_word_topics\u001b[0m\u001b[1;33m)\u001b[0m\u001b[1;33m\u001b[0m\u001b[0m\n\u001b[0m\u001b[0;32m   1330\u001b[0m         \u001b[0mtopic_dist\u001b[0m \u001b[1;33m=\u001b[0m \u001b[0mgamma\u001b[0m\u001b[1;33m[\u001b[0m\u001b[1;36m0\u001b[0m\u001b[1;33m]\u001b[0m \u001b[1;33m/\u001b[0m \u001b[0msum\u001b[0m\u001b[1;33m(\u001b[0m\u001b[0mgamma\u001b[0m\u001b[1;33m[\u001b[0m\u001b[1;36m0\u001b[0m\u001b[1;33m]\u001b[0m\u001b[1;33m)\u001b[0m  \u001b[1;31m# normalize distribution\u001b[0m\u001b[1;33m\u001b[0m\u001b[0m\n\u001b[0;32m   1331\u001b[0m \u001b[1;33m\u001b[0m\u001b[0m\n",
      "\u001b[1;32m~\\Anaconda3\\lib\\site-packages\\gensim\\models\\ldamodel.py\u001b[0m in \u001b[0;36minference\u001b[1;34m(self, chunk, collect_sstats)\u001b[0m\n\u001b[0;32m    678\u001b[0m             \u001b[0mElogthetad\u001b[0m \u001b[1;33m=\u001b[0m \u001b[0mElogtheta\u001b[0m\u001b[1;33m[\u001b[0m\u001b[0md\u001b[0m\u001b[1;33m,\u001b[0m \u001b[1;33m:\u001b[0m\u001b[1;33m]\u001b[0m\u001b[1;33m\u001b[0m\u001b[0m\n\u001b[0;32m    679\u001b[0m             \u001b[0mexpElogthetad\u001b[0m \u001b[1;33m=\u001b[0m \u001b[0mexpElogtheta\u001b[0m\u001b[1;33m[\u001b[0m\u001b[0md\u001b[0m\u001b[1;33m,\u001b[0m \u001b[1;33m:\u001b[0m\u001b[1;33m]\u001b[0m\u001b[1;33m\u001b[0m\u001b[0m\n\u001b[1;32m--> 680\u001b[1;33m             \u001b[0mexpElogbetad\u001b[0m \u001b[1;33m=\u001b[0m \u001b[0mself\u001b[0m\u001b[1;33m.\u001b[0m\u001b[0mexpElogbeta\u001b[0m\u001b[1;33m[\u001b[0m\u001b[1;33m:\u001b[0m\u001b[1;33m,\u001b[0m \u001b[0mids\u001b[0m\u001b[1;33m]\u001b[0m\u001b[1;33m\u001b[0m\u001b[0m\n\u001b[0m\u001b[0;32m    681\u001b[0m \u001b[1;33m\u001b[0m\u001b[0m\n\u001b[0;32m    682\u001b[0m             \u001b[1;31m# The optimal phi_{dwk} is proportional to expElogthetad_k * expElogbetad_w.\u001b[0m\u001b[1;33m\u001b[0m\u001b[1;33m\u001b[0m\u001b[0m\n",
      "\u001b[1;31mIndexError\u001b[0m: index 30995 is out of bounds for axis 1 with size 30990"
     ]
    },
    {
     "name": "stdout",
     "output_type": "stream",
     "text": [
      "Wall time: 1min 12s\n",
      "Wall time: 7.65 s\n",
      "3\n",
      "Wall time: 315 ms\n",
      "Wall time: 1min 15s\n",
      "Wall time: 6.19 s\n",
      "4\n",
      "Wall time: 275 ms\n",
      "Wall time: 1min 3s\n",
      "Wall time: 4.95 s\n",
      "5\n",
      "Wall time: 234 ms\n",
      "Wall time: 50 s\n",
      "Wall time: 5.18 s\n",
      "6\n",
      "Wall time: 200 ms\n",
      "Wall time: 49.8 s\n",
      "Wall time: 4.9 s\n",
      "7\n",
      "Wall time: 221 ms\n",
      "Wall time: 48.7 s\n",
      "Wall time: 5.63 s\n",
      "8\n",
      "Wall time: 203 ms\n",
      "Wall time: 49.4 s\n",
      "Wall time: 4.89 s\n",
      "9\n",
      "Wall time: 198 ms\n",
      "Wall time: 48.9 s\n",
      "Wall time: 5.52 s\n"
     ]
    }
   ],
   "source": [
    "data1 = []\n",
    "wcss8= []\n",
    "\n",
    "for run in range(0,10):\n",
    "    print(run)\n",
    "    rd.seed(run)\n",
    "    indices = [range(i,i+400) for i in range(0,1600,400)]\n",
    "    indices.append(range(1600,1986))\n",
    "\n",
    "    sample = [rd.sample(index,k=40) for index in indices]\n",
    "    ss = [x for y in sample for x in y]\n",
    "    sample = [documents[i] for i in ss]\n",
    "\n",
    "\n",
    "    %time only_topics1,only_numbers1= topicz_fast(sample,20)\n",
    "    %time distance_matrix1 = sj_distance(only_topics1,only_numbers1)\n",
    "\n",
    "\n",
    "    num_clusters = 8  #Set the number of clusters\n",
    "    km = KMeans(n_clusters=num_clusters,n_init = 1000,max_iter= 600)\n",
    "\n",
    "\n",
    "\n",
    "    %time km.fit(distance_matrix1)     #Fit K-Means using the distance matrix\n",
    "\n",
    "    clusters = km.labels_.tolist()\n",
    "    data1.append(clusters)\n",
    "    \n",
    "    wcss8.append(km.inertia_)"
   ]
  },
  {
   "cell_type": "code",
   "execution_count": 3,
   "metadata": {},
   "outputs": [],
   "source": [
    "wcss_all = [0,0,0,0,0,0,0,0]\n",
    "wcss_errors = [0,0,0,0,0,0,0,0]\n",
    "wcss5 = [365.8517022451507,\n",
    " 369.27458381468966,\n",
    " 369.27458381468966,\n",
    " 357.37308279723584,\n",
    " 355.3611608489805,\n",
    " 372.1940335058321,\n",
    " 350.2631890790028,\n",
    " 352.3201754962704,\n",
    " 354.65301130022533,\n",
    " 365.49459723436553]\n",
    "wcss_all[4] = np.mean(wcss5)\n",
    "wcss_errors[4] = np.std(wcss5)"
   ]
  },
  {
   "cell_type": "code",
   "execution_count": 4,
   "metadata": {},
   "outputs": [],
   "source": [
    "wcss4 = [452.4932783953735,\n",
    " 442.63525140753256,\n",
    " 442.63525140753256,\n",
    " 436.7079952573893,\n",
    " 421.64552955983424,\n",
    " 434.0617994242098,\n",
    " 430.00404981684824,\n",
    " 427.2091550799206,\n",
    " 442.7612226630856,\n",
    " 437.5800410864516]\n",
    "wcss_all[3] = np.mean(wcss4)\n",
    "wcss_errors[3] = np.std(wcss4)"
   ]
  },
  {
   "cell_type": "code",
   "execution_count": 5,
   "metadata": {},
   "outputs": [],
   "source": [
    "wcss3 = [550.4054258617919,\n",
    " 578.3312059137883,\n",
    " 578.3312059137883,\n",
    " 556.5327102620405,\n",
    " 526.5372278687695,\n",
    " 544.479274306846,\n",
    " 546.5217664477417,\n",
    " 546.7983564014974,\n",
    " 559.1323689843008,\n",
    " 572.2487895276394]\n",
    "wcss_all[2] = np.mean(wcss3)\n",
    "wcss_errors[2] = np.std(wcss3)"
   ]
  },
  {
   "cell_type": "code",
   "execution_count": 6,
   "metadata": {},
   "outputs": [],
   "source": [
    "wcss2 = [659.9618107303913,\n",
    " 724.4252433071149,\n",
    " 724.4252433071149,\n",
    " 711.4792294134858,\n",
    " 720.2097194188252,\n",
    " 697.0611003511606,\n",
    " 707.0436304007268,\n",
    " 724.1149756142789,\n",
    " 725.843275373763,\n",
    " 717.0101818036917]\n",
    "wcss_all[1] = np.mean(wcss2)\n",
    "wcss_errors[1] = np.std(wcss2)"
   ]
  },
  {
   "cell_type": "code",
   "execution_count": 7,
   "metadata": {},
   "outputs": [],
   "source": [
    "wcss1 = [932.4496972590266,\n",
    " 907.5230536537258,\n",
    " 907.5230536537258,\n",
    " 973.1869730380811,\n",
    " 947.0179578301671,\n",
    " 919.5922811714188,\n",
    " 990.7635023455349,\n",
    " 1015.9501505758146,\n",
    " 945.837548459281,\n",
    " 969.6457720125708]\n",
    "wcss_all[0] = np.mean(wcss1)\n",
    "wcss_errors[0] = np.std(wcss1)"
   ]
  },
  {
   "cell_type": "code",
   "execution_count": 8,
   "metadata": {},
   "outputs": [],
   "source": [
    "wcss6 = [331.9849141035523,\n",
    " 346.0227443397288,\n",
    " 346.0227443397288,\n",
    " 333.2176722925448,\n",
    " 324.7362259785467,\n",
    " 338.9873339265996,\n",
    " 322.6940900193461,\n",
    " 325.55504370509453,\n",
    " 322.2000706846465,\n",
    " 339.98854446044817]\n",
    "wcss_all[5] = np.mean(wcss6)\n",
    "wcss_errors[5] = np.std(wcss6)"
   ]
  },
  {
   "cell_type": "code",
   "execution_count": 9,
   "metadata": {},
   "outputs": [],
   "source": [
    "wcss7 = [310.6182715356966,\n",
    " 324.66788141658736,\n",
    " 324.66294195733894,\n",
    " 311.43066955207865,\n",
    " 303.50924529299664,\n",
    " 310.0858623403266,\n",
    " 302.67511359000673,\n",
    " 299.9077977515165,\n",
    " 302.12237556046074,\n",
    " 314.4064328216939]\n",
    "wcss_all[6] = np.mean(wcss7)\n",
    "wcss_errors[6] = np.std(wcss7)"
   ]
  },
  {
   "cell_type": "code",
   "execution_count": 10,
   "metadata": {},
   "outputs": [],
   "source": [
    "wcss8 = [293.4358650969904,\n",
    " 307.32410682868806,\n",
    " 307.3541470549754,\n",
    " 292.60617552108135,\n",
    " 284.4009781121218,\n",
    " 290.9412428484744,\n",
    " 286.25669780047247,\n",
    " 279.3003193152748,\n",
    " 284.99756317927165,\n",
    " 295.38593312359814]\n",
    "wcss_all[7] = np.mean(wcss8)\n",
    "wcss_errors[7] = np.std(wcss8)"
   ]
  },
  {
   "cell_type": "code",
   "execution_count": 13,
   "metadata": {},
   "outputs": [
    {
     "name": "stdout",
     "output_type": "stream",
     "text": [
      "[950.9489989999347, 711.1574409720554, 555.9318331488204, 436.7733574098178, 361.2060120136442, 333.1409383850236, 310.4086591818703, 292.2003028880948]\n",
      "[34.34110449718351, 19.205637906517634, 15.741747688389877, 8.519684694828278, 7.625048414994382, 8.782473426530803, 8.426298458156392, 8.867007394298177]\n"
     ]
    }
   ],
   "source": [
    "print(wcss_all)\n",
    "print(wcss_errors)"
   ]
  },
  {
   "cell_type": "code",
   "execution_count": 78,
   "metadata": {},
   "outputs": [
    {
     "data": {
      "image/png": "[encoded data removed]",
      "text/plain": [
       "<Figure size 432x288 with 1 Axes>"
      ]
     },
     "metadata": {
      "needs_background": "light"
     },
     "output_type": "display_data"
    }
   ],
   "source": [
    "plt.errorbar([1,2,3,4,5,6,7,8],wcss_all,yerr = wcss_errors,marker = '.', fmt = '--',\n",
    "            color = \"blue\",capsize = 3,label = \"wcss\")\n",
    "\n",
    "plt.plot(5,wcss_all[4], 'o', markersize = 13, color = 'red', alpha = 0.5, label = 'Elbow Point')\n",
    "\n",
    "plt.grid()\n",
    "plt.xlabel(\"Number of Clusters\")\n",
    "plt.ylabel(\"Within Cluster Sum of Squares (wcss)\")\n",
    "\n",
    "\n",
    "plt.legend()\n",
    "\n",
    "plt.savefig(\"Figures//LDA_BBC//Elbow_Curve_Graph.pdf\")\n"
   ]
  },
  {
   "cell_type": "code",
   "execution_count": null,
   "metadata": {},
   "outputs": [],
   "source": [
    "secondDerivative[i] = x[i+1] + x[i-1] - 2 * x[i]\n"
   ]
  },
  {
   "cell_type": "code",
   "execution_count": 54,
   "metadata": {},
   "outputs": [],
   "source": [
    "sd = []\n",
    "x = wcss_all\n",
    "for i in range(1,len(wcss_all)-1):\n",
    "    sd.append(x[i+1] + x[i-1] - 2 * x[i])\n",
    "    \n",
    "    "
   ]
  },
  {
   "cell_type": "code",
   "execution_count": 55,
   "metadata": {},
   "outputs": [
    {
     "data": {
      "text/plain": [
       "[84.5659502046442,\n",
       " 36.0671320842323,\n",
       " 43.59113034282905,\n",
       " 47.502271767552884,\n",
       " 5.332794425467341,\n",
       " 4.523922909377802]"
      ]
     },
     "execution_count": 55,
     "metadata": {},
     "output_type": "execute_result"
    }
   ],
   "source": [
    "sd"
   ]
  },
  {
   "cell_type": "code",
   "execution_count": 68,
   "metadata": {},
   "outputs": [
    {
     "data": {
      "text/plain": [
       "[<matplotlib.lines.Line2D at 0x1a28a9a5c0>]"
      ]
     },
     "execution_count": 68,
     "metadata": {},
     "output_type": "execute_result"
    },
    {
     "data": {
      "image/png": "[encoded data removed]",
      "text/plain": [
       "<Figure size 432x288 with 1 Axes>"
      ]
     },
     "metadata": {
      "needs_background": "light"
     },
     "output_type": "display_data"
    }
   ],
   "source": [
    "space = np.linspace(0,8,1000)\n",
    "\n",
    "plt.plot(space, 1/space)"
   ]
  },
  {
   "cell_type": "code",
   "execution_count": null,
   "metadata": {},
   "outputs": [],
   "source": []
  },
  {
   "cell_type": "code",
   "execution_count": 58,
   "metadata": {},
   "outputs": [
    {
     "name": "stdout",
     "output_type": "stream",
     "text": [
      "For n_clusters=2, The Silhouette Coefficient is 0.2946343907593004\n",
      "For n_clusters=3, The Silhouette Coefficient is 0.22249702302736338\n",
      "For n_clusters=4, The Silhouette Coefficient is 0.2528718825714655\n",
      "For n_clusters=5, The Silhouette Coefficient is 0.25163819568076545\n",
      "For n_clusters=6, The Silhouette Coefficient is 0.22628310398498222\n",
      "For n_clusters=7, The Silhouette Coefficient is 0.199009548683107\n"
     ]
    }
   ],
   "source": [
    "from sklearn.metrics import silhouette_score\n",
    "\n",
    "\n",
    "for n_cluster in range(2, 8):\n",
    "    kmeans = KMeans(n_clusters=n_cluster).fit(distance_matrix1)\n",
    "    label = kmeans.labels_\n",
    "    sil_coeff = silhouette_score(distance_matrix1, label, metric='euclidean')\n",
    "    print(\"For n_clusters={}, The Silhouette Coefficient is {}\".format(n_cluster, sil_coeff))\n",
    "\n"
   ]
  },
  {
   "cell_type": "code",
   "execution_count": 65,
   "metadata": {},
   "outputs": [
    {
     "data": {
      "text/plain": [
       "[<matplotlib.lines.Line2D at 0x1a27797cf8>]"
      ]
     },
     "execution_count": 65,
     "metadata": {},
     "output_type": "execute_result"
    },
    {
     "data": {
      "image/png": "[encoded data removed]",
      "text/plain": [
       "<Figure size 432x288 with 1 Axes>"
      ]
     },
     "metadata": {
      "needs_background": "light"
     },
     "output_type": "display_data"
    }
   ],
   "source": [
    "plt.loglog([1,2,3,4,5,6,7,8],wcss_all,'o--')"
   ]
  },
  {
   "cell_type": "code",
   "execution_count": null,
   "metadata": {},
   "outputs": [],
   "source": []
  }
 ],
 "metadata": {
  "kernelspec": {
   "display_name": "Python 3",
   "language": "python",
   "name": "python3"
  },
  "language_info": {
   "codemirror_mode": {
    "name": "ipython",
    "version": 3
   },
   "file_extension": ".py",
   "mimetype": "text/x-python",
   "name": "python",
   "nbconvert_exporter": "python",
   "pygments_lexer": "ipython3",
   "version": "3.7.0"
  }
 },
 "nbformat": 4,
 "nbformat_minor": 2
}
