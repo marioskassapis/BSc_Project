{
 "cells": [
  {
   "cell_type": "code",
   "execution_count": 1,
   "metadata": {},
   "outputs": [],
   "source": [
    "import numpy as np\n",
    "import matplotlib.pyplot as plt"
   ]
  },
  {
   "cell_type": "code",
   "execution_count": 10,
   "metadata": {},
   "outputs": [
    {
     "data": {
      "text/plain": [
       "array([[1., 1., 1., 0., 1., 0., 2., 2., 1., 0., 0., 0., 0.],\n",
       "       [0., 1., 0., 2., 0., 2., 1., 1., 1., 2., 2., 2., 2.],\n",
       "       [0., 1., 0., 1., 0., 1., 2., 2., 1., 1., 1., 1., 1.],\n",
       "       [2., 2., 2., 1., 2., 1., 1., 0., 1., 1., 1., 1., 1.],\n",
       "       [0., 0., 0., 1., 0., 1., 1., 2., 0., 1., 1., 1., 1.],\n",
       "       [0., 0., 0., 1., 0., 1., 2., 2., 1., 1., 1., 1., 1.],\n",
       "       [0., 0., 0., 1., 0., 1., 2., 2., 0., 1., 1., 1., 1.],\n",
       "       [0., 0., 0., 1., 0., 1., 1., 2., 0., 1., 1., 1., 1.],\n",
       "       [0., 0., 0., 1., 0., 1., 2., 2., 0., 1., 1., 1., 1.],\n",
       "       [2., 2., 2., 1., 2., 1., 1., 0., 2., 1., 1., 1., 1.],\n",
       "       [0., 0., 0., 1., 0., 1., 1., 2., 1., 1., 1., 1., 1.]])"
      ]
     },
     "execution_count": 10,
     "metadata": {},
     "output_type": "execute_result"
    }
   ],
   "source": [
    "cclist = np.loadtxt(\"Figures\\\\LDA_BBC\\\\c_list.txt\")\n",
    "cclist"
   ]
  },
  {
   "cell_type": "code",
   "execution_count": 12,
   "metadata": {},
   "outputs": [],
   "source": [
    "list1 = [0, 0, 0, 1, 0, 1, 2, 2, 0, 1, 1, 1, 1]\n",
    "list2 = [0., 2., 0., 1., 0., 1., 2., 2., 2., 1., 1., 1., 1.]\n",
    "cclist[0] = list1\n",
    "cclist[1] = list2"
   ]
  },
  {
   "cell_type": "code",
   "execution_count": 44,
   "metadata": {},
   "outputs": [],
   "source": [
    "   #    [1 , 2,  3,  4,  5,  6,  7,  8,  9,  10, 11, 12, 13]\n",
    "cclist = np.array([[0., 0., 0., 1., 0., 1., 2., 2., 0., 1., 1., 1., 1.],\n",
    "                   [0., 2., 0., 1., 0., 1., 2., 2., 2., 1., 1., 1., 1.],\n",
    "                   [0., 1., 0., 1., 0., 1., 2., 2., 1., 1., 1., 1., 1.],\n",
    "                   [0., 0., 0., 1., 0., 1., 1., 2., 1., 1., 1., 1., 1.],\n",
    "                   [0., 0., 0., 1., 0., 1., 1., 2., 0., 1., 1., 1., 1.],\n",
    "                   [0., 0., 0., 1., 0., 1., 2., 2., 1., 1., 1., 1., 1.],\n",
    "                   [0., 0., 0., 1., 0., 1., 2., 2., 0., 1., 1., 1., 1.],\n",
    "                   [0., 0., 0., 1., 0., 1., 1., 2., 0., 1., 1., 1., 1.],\n",
    "                   [0., 0., 0., 1., 0., 1., 2., 2., 0., 1., 1., 1., 1.],\n",
    "                   [0., 0., 0., 1., 0., 1., 1., 2., 0., 1., 1., 1., 1.],\n",
    "                   [0., 0., 0., 1., 0., 1., 1., 2., 1., 1., 1., 1., 1.]])"
   ]
  },
  {
   "cell_type": "code",
   "execution_count": null,
   "metadata": {},
   "outputs": [],
   "source": [
    "[0,0,0,1,0,1,2,2,0,1,1,1,1]"
   ]
  },
  {
   "cell_type": "code",
   "execution_count": 45,
   "metadata": {},
   "outputs": [],
   "source": [
    "proper_names = [\"Theresa May\",\"Tony Blair\",\"Gordon Brown\",\"Alec Douglas\",\"David Cameron\",\"Edward Heath\",\"Harold Wilson\",\n",
    "           \"James Callaghan\",\"John Major\",\"Margaret Thatcher\",\"Harold Macmillan\",\"Anthony Eden\",\"Winston Churchill\"]"
   ]
  },
  {
   "cell_type": "code",
   "execution_count": 48,
   "metadata": {},
   "outputs": [
    {
     "data": {
      "image/png": "[encoded data removed]",
      "text/plain": [
       "<Figure size 432x288 with 1 Axes>"
      ]
     },
     "metadata": {
      "needs_background": "light"
     },
     "output_type": "display_data"
    }
   ],
   "source": [
    "plt.xticks([0,1,2], [0,1,2])\n",
    "\n",
    "for cluster in cclist[:-2]:\n",
    "    plt.plot(cluster,proper_names, 'o', color = 'blue', markersize = 10,alpha = 0.2)\n",
    "    \n",
    "plt.plot(cclist[-2],proper_names, 'o', color = 'blue', markersize = 10,alpha = 0.2, label = \"Bootstrapped Texts\")    \n",
    "\n",
    "plt.plot(cclist[-1],proper_names, 'o', color = 'red', markersize = 15,alpha = 1,\n",
    "         markeredgecolor = \"black\", fillstyle = \"none\", label = \"Original Texts\")    \n",
    "\n",
    "\n",
    "plt.xlabel(\"Cluster Number\")\n",
    "    \n",
    "plt.grid()\n",
    "plt.legend()\n",
    "\n",
    "plt.savefig(\"Figures//LDA_BBC//LDA_Clusters_AllSeeds.pdf\", bbox_inches = 'tight')"
   ]
  },
  {
   "cell_type": "code",
   "execution_count": 49,
   "metadata": {},
   "outputs": [
    {
     "data": {
      "text/plain": [
       "array([1. , 0.8, 1. , 1. , 1. , 1. , 0.6, 1. , 0.6, 1. , 1. , 1. , 1. ])"
      ]
     },
     "execution_count": 49,
     "metadata": {},
     "output_type": "execute_result"
    }
   ],
   "source": [
    "ff = [[0,0,0,1,0,1,2,2,0,1,1,1,1] for i in range (10)]\n",
    "trues = np.array([np.array(x) == np.array(y) for x,y in zip(ff,cclist)])\n",
    "\n",
    "np.sum(trues,axis = 0)/10"
   ]
  },
  {
   "cell_type": "code",
   "execution_count": 14,
   "metadata": {},
   "outputs": [],
   "source": [
    "zar = np.array([1. , 0.8, 1. , 1. , 1. , 1. , 0.6, 1. , 0.6, 1. , 1. , 1. , 1. ])"
   ]
  },
  {
   "cell_type": "code",
   "execution_count": 17,
   "metadata": {},
   "outputs": [
    {
     "data": {
      "text/plain": [
       "0.9230769230769231"
      ]
     },
     "execution_count": 17,
     "metadata": {},
     "output_type": "execute_result"
    }
   ],
   "source": [
    "np.mean(zar)"
   ]
  },
  {
   "cell_type": "code",
   "execution_count": 18,
   "metadata": {},
   "outputs": [
    {
     "data": {
      "text/plain": [
       "0.1475640468711606"
      ]
     },
     "execution_count": 18,
     "metadata": {},
     "output_type": "execute_result"
    }
   ],
   "source": [
    "np.std(zar)"
   ]
  },
  {
   "cell_type": "code",
   "execution_count": 4,
   "metadata": {},
   "outputs": [
    {
     "data": {
      "text/plain": [
       "array([[1., 2., 2., 0., 1., 1., 1., 1., 1., 1., 0., 0., 0.],\n",
       "       [0., 0., 1., 2., 0., 0., 0., 0., 0., 0., 2., 2., 2.],\n",
       "       [1., 0., 0., 2., 1., 1., 1., 1., 1., 1., 2., 2., 2.],\n",
       "       [0., 1., 1., 2., 0., 0., 0., 0., 0., 0., 2., 2., 2.],\n",
       "       [1., 0., 0., 2., 1., 1., 1., 1., 1., 1., 2., 2., 2.],\n",
       "       [1., 1., 0., 2., 1., 1., 1., 1., 1., 1., 2., 2., 2.],\n",
       "       [0., 2., 2., 1., 0., 0., 0., 0., 0., 0., 1., 1., 1.],\n",
       "       [0., 2., 2., 1., 0., 0., 0., 0., 0., 0., 1., 1., 1.],\n",
       "       [0., 0., 0., 1., 0., 2., 2., 2., 2., 2., 1., 1., 1.],\n",
       "       [1., 2., 2., 0., 1., 1., 0., 0., 1., 1., 0., 1., 1.],\n",
       "       [1., 2., 1., 1., 1., 1., 0., 0., 1., 0., 0., 1., 1.]])"
      ]
     },
     "execution_count": 4,
     "metadata": {},
     "output_type": "execute_result"
    }
   ],
   "source": [
    "pplist = np.loadtxt(\"quality_tou_kinitou_sou.txt\")\n",
    "pplist"
   ]
  },
  {
   "cell_type": "code",
   "execution_count": 3,
   "metadata": {},
   "outputs": [],
   "source": [
    "   #   [1 , 2,  3,  4,  5,  6,  7,  8,  9,  10, 11, 12, 13]\n",
    "pplist = np.array([[1., 0., 0., 2., 1., 1., 1., 1., 1., 1., 2., 2., 2.],\n",
    "                   [0., 0., 1., 2., 0., 0., 0., 0., 0., 0., 2., 2., 2.],\n",
    "                   [1., 0., 0., 2., 1., 1., 1., 1., 1., 1., 2., 2., 2.],\n",
    "                   [1., 0., 0., 2., 1., 1., 1., 1., 1., 1., 2., 2., 2.],\n",
    "                   [1., 0., 0., 2., 1., 1., 1., 1., 1., 1., 2., 2., 2.],\n",
    "                   [0., 0., 1., 2., 0., 0., 0., 0., 0., 0., 2., 2., 2.],\n",
    "                   [1., 0., 0., 2., 1., 1., 1., 1., 1., 1., 2., 2., 2.],\n",
    "                   [0., 0., 0., 2., 0., 1., 1., 1., 1., 1., 2., 2., 2.],\n",
    "                   [2., 0., 0., 1., 2., 2., 1., 1., 2., 2., 1., 2., 2.],\n",
    "                   [2., 0., 2., 2., 2., 2., 1., 1., 2., 1., 1., 2., 2.]])"
   ]
  },
  {
   "cell_type": "code",
   "execution_count": 42,
   "metadata": {},
   "outputs": [
    {
     "data": {
      "image/png": "[encoded data removed]",
      "text/plain": [
       "<Figure size 432x288 with 1 Axes>"
      ]
     },
     "metadata": {
      "needs_background": "light"
     },
     "output_type": "display_data"
    }
   ],
   "source": [
    "plt.xticks([0,1,2], [0,1,2])\n",
    "\n",
    "for cluster in pplist[1:-2]:\n",
    "    plt.plot(cluster,proper_names, 'o', color = 'blue', markersize = 10,alpha = 0.2)\n",
    "    \n",
    "plt.plot(pplist[-2],proper_names, 'o', color = 'blue', markersize = 10,alpha = 0.2, label = \"Bootstrapped Texts\")    \n",
    "\n",
    "plt.plot(pplist[0],proper_names, 'o', color = 'red', markersize = 15,alpha = 1,\n",
    "         markeredgecolor = \"black\", fillstyle = \"none\", label = \"Original Texts\")    \n",
    "\n",
    "\n",
    "plt.xlabel(\"Cluster Number\")\n",
    "    \n",
    "plt.grid()\n",
    "plt.legend()\n",
    "\n",
    "plt.savefig(\"Figures//Traditional_Politicians//Traditional_Politicians_clusters_AllSeeds.pdf\", bbox_inches='tight')"
   ]
  },
  {
   "cell_type": "code",
   "execution_count": 4,
   "metadata": {},
   "outputs": [
    {
     "data": {
      "text/plain": [
       "array([0.5, 1. , 0.7, 0.9, 0.5, 0.6, 0.8, 0.8, 0.6, 0.7, 0.8, 1. , 1. ])"
      ]
     },
     "execution_count": 4,
     "metadata": {},
     "output_type": "execute_result"
    }
   ],
   "source": [
    "ff = [[1,0,0,2,1,1,1,1,1,1,2,2,2] for i in range (10)]\n",
    "trues = np.array([np.array(x) == np.array(y) for x,y in zip(ff,pplist)])\n",
    "\n",
    "np.sum(trues,axis = 0)/10"
   ]
  },
  {
   "cell_type": "code",
   "execution_count": 7,
   "metadata": {},
   "outputs": [
    {
     "data": {
      "text/plain": [
       "10"
      ]
     },
     "execution_count": 7,
     "metadata": {},
     "output_type": "execute_result"
    }
   ],
   "source": [
    "len(trues)"
   ]
  },
  {
   "cell_type": "code",
   "execution_count": 8,
   "metadata": {},
   "outputs": [],
   "source": [
    "yiorkui = np.array([0.5, 1. , 0.7, 0.9, 0.5, 0.6, 0.8, 0.8, 0.6, 0.7, 0.8, 1. , 1. ])"
   ]
  },
  {
   "cell_type": "code",
   "execution_count": 11,
   "metadata": {},
   "outputs": [
    {
     "data": {
      "text/plain": [
       "0.17337581030130225"
      ]
     },
     "execution_count": 11,
     "metadata": {},
     "output_type": "execute_result"
    }
   ],
   "source": [
    "np.std(yiorkui)"
   ]
  },
  {
   "cell_type": "code",
   "execution_count": 12,
   "metadata": {},
   "outputs": [
    {
     "data": {
      "text/plain": [
       "0.7615384615384616"
      ]
     },
     "execution_count": 12,
     "metadata": {},
     "output_type": "execute_result"
    }
   ],
   "source": [
    "np.mean(yiorkui)"
   ]
  },
  {
   "cell_type": "code",
   "execution_count": 13,
   "metadata": {},
   "outputs": [
    {
     "data": {
      "text/plain": [
       "13"
      ]
     },
     "execution_count": 13,
     "metadata": {},
     "output_type": "execute_result"
    }
   ],
   "source": [
    "len(yiorkui)"
   ]
  },
  {
   "cell_type": "code",
   "execution_count": null,
   "metadata": {},
   "outputs": [],
   "source": []
  }
 ],
 "metadata": {
  "kernelspec": {
   "display_name": "Python 3",
   "language": "python",
   "name": "python3"
  },
  "language_info": {
   "codemirror_mode": {
    "name": "ipython",
    "version": 3
   },
   "file_extension": ".py",
   "mimetype": "text/x-python",
   "name": "python",
   "nbconvert_exporter": "python",
   "pygments_lexer": "ipython3",
   "version": "3.7.0"
  }
 },
 "nbformat": 4,
 "nbformat_minor": 2
}
